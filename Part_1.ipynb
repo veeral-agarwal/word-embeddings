{
  "nbformat": 4,
  "nbformat_minor": 0,
  "metadata": {
    "colab": {
      "name": "Part_1.ipynb",
      "provenance": []
    },
    "kernelspec": {
      "name": "python3",
      "display_name": "Python 3"
    },
    "language_info": {
      "name": "python"
    }
  },
  "cells": [
    {
      "cell_type": "code",
      "metadata": {
        "id": "VM2U79bH_EGw"
      },
      "source": [
        ""
      ],
      "execution_count": null,
      "outputs": []
    },
    {
      "cell_type": "code",
      "metadata": {
        "colab": {
          "base_uri": "https://localhost:8080/"
        },
        "id": "N_JuvOhf_V4e",
        "outputId": "3acd8919-fb94-4bdc-877b-3849158a3237"
      },
      "source": [
        "from google.colab import drive\n",
        "drive.mount('/content/drive')\n"
      ],
      "execution_count": 3,
      "outputs": [
        {
          "output_type": "stream",
          "name": "stdout",
          "text": [
            "Mounted at /content/drive\n"
          ]
        }
      ]
    },
    {
      "cell_type": "code",
      "metadata": {
        "id": "Pf-HbjO5LZ9A"
      },
      "source": [
        "import json"
      ],
      "execution_count": 4,
      "outputs": []
    },
    {
      "cell_type": "code",
      "metadata": {
        "id": "gRIkk9d3GYjP"
      },
      "source": [
        "data = []\n",
        "for line in open('/content/drive/My Drive/data/Electronics_5.json', 'r'):\n",
        "    data.append(json.loads(line))"
      ],
      "execution_count": null,
      "outputs": []
    },
    {
      "cell_type": "code",
      "metadata": {
        "id": "QQDLUSLAJmqG"
      },
      "source": [
        "reviews = []\n",
        "for i in data:\n",
        "  reviews.append(i[\"reviewText\"])"
      ],
      "execution_count": null,
      "outputs": []
    },
    {
      "cell_type": "code",
      "metadata": {
        "id": "MufO6bqNKITS"
      },
      "source": [
        "from collections import Counter\n",
        "c = Counter()"
      ],
      "execution_count": null,
      "outputs": []
    },
    {
      "cell_type": "code",
      "metadata": {
        "id": "oaDpBOAaK7y3"
      },
      "source": [
        "\n",
        "for review in reviews:\n",
        "  words = review.split()\n",
        "  for word in words:\n",
        "    c[word.lower()]+=1"
      ],
      "execution_count": null,
      "outputs": []
    },
    {
      "cell_type": "code",
      "metadata": {
        "id": "tpk3t3FG5AYZ"
      },
      "source": [
        ""
      ],
      "execution_count": null,
      "outputs": []
    },
    {
      "cell_type": "code",
      "metadata": {
        "id": "UWTCD_ff5DL-"
      },
      "source": [
        "cleaned_reviews = []"
      ],
      "execution_count": null,
      "outputs": []
    },
    {
      "cell_type": "code",
      "metadata": {
        "colab": {
          "base_uri": "https://localhost:8080/"
        },
        "id": "MsaxB_-15Dge",
        "outputId": "295c5b61-ac63-4460-a36d-83a1d6285ee1"
      },
      "source": [
        "import nltk\n",
        "nltk.download('stopwords')\n",
        "from nltk.corpus import stopwords\n",
        "stop_words = set(stopwords.words('english'))\n",
        "from nltk.tokenize import RegexpTokenizer\n",
        "\n",
        "tokenizer = RegexpTokenizer(r'\\w+')\n",
        "x = tokenizer.tokenize('Eighty-seven miles to go, yet.  Onward!')"
      ],
      "execution_count": null,
      "outputs": [
        {
          "output_type": "stream",
          "name": "stdout",
          "text": [
            "[nltk_data] Downloading package stopwords to /root/nltk_data...\n",
            "[nltk_data]   Package stopwords is already up-to-date!\n"
          ]
        }
      ]
    },
    {
      "cell_type": "code",
      "metadata": {
        "id": "_r0oEwJ85DlO"
      },
      "source": [
        "\n",
        "for review in reviews:\n",
        "  words = tokenizer.tokenize(review)\n",
        "  new_words = []\n",
        "  for word in words:\n",
        "    word = word.lower()\n",
        "    if c[word]>=5 and word not in stop_words:\n",
        "      new_words.append(word)\n",
        "  new_review = \" \".join(new_words)\n",
        "  cleaned_reviews.append(new_review)\n",
        "with open('reviews.txt', 'w') as f:\n",
        "    for item in cleaned_reviews:\n",
        "        f.write(\"%s\\n\" % item)"
      ],
      "execution_count": null,
      "outputs": []
    },
    {
      "cell_type": "code",
      "metadata": {
        "id": "R-O2vU5c5Dn0"
      },
      "source": [
        ""
      ],
      "execution_count": null,
      "outputs": []
    },
    {
      "cell_type": "code",
      "metadata": {
        "id": "OZUD58O25Dqj"
      },
      "source": [
        ""
      ],
      "execution_count": null,
      "outputs": []
    },
    {
      "cell_type": "code",
      "metadata": {
        "id": "fQ8AbYmD6Imy"
      },
      "source": [
        ""
      ],
      "execution_count": null,
      "outputs": []
    },
    {
      "cell_type": "code",
      "metadata": {
        "id": "IRVU5ZVX6Ipk"
      },
      "source": [
        ""
      ],
      "execution_count": null,
      "outputs": []
    },
    {
      "cell_type": "code",
      "metadata": {
        "id": "KGdopjMT6Isv"
      },
      "source": [
        "with open('/content/drive/My Drive/data/reviews.txt') as file:\n",
        "    cleaned_reviews = file.readlines()\n",
        "    cleaned_reviews = [line.rstrip() for line in cleaned_reviews]"
      ],
      "execution_count": 5,
      "outputs": []
    },
    {
      "cell_type": "code",
      "metadata": {
        "colab": {
          "base_uri": "https://localhost:8080/"
        },
        "id": "EoqvgaSj6Ivr",
        "outputId": "ae45ba5c-d042-4840-8423-2fe5f3f51375"
      },
      "source": [
        "cleaned_reviews[:3]"
      ],
      "execution_count": 6,
      "outputs": [
        {
          "output_type": "execute_result",
          "data": {
            "text/plain": [
              "[\"we got this gps for my husband who is an over the road trucker. very impressed with the shipping time, it arrived a few days earlier than expected... within a week of use however it started freezing up... could of just been a glitch in that unit. worked great when it worked! will work great for the normal person as well but does have the option. (the big truck routes - tells you when a scale is coming up ect...) love the bigger screen, the ease of use, the ease of putting addresses into memory. nothing really bad to say about the unit with the exception of it freezing which is probably one in a million and that's just my luck. i contacted the seller and within minutes of my email i received a email back with instructions for an exchange! very impressed all the way around!\",\n",
              " 'i\\'m a professional otr truck driver, and i bought a tnd 700 at a truck stop hoping to make my life easier. rand mcnally, are you thing i did after charging it was connect it to my laptop and install the software and then attempt to update it. the software detected a problem with my update and wanted my home address so i could be sent a patch on an sd card. hello? i don\\'t think i\\'m all that unusual; my home address is a po box that a friend checks weekly and that i might get to check every six months or so. i live in my truck and at truck stops. if you need to make a patch available on an sd card then you should send the sd cards to the truck stops where the devices are sold. i ran the update program multiple times until the program said that the tnd 700 was completely updated.i programmed in the height the length and the weight of my rig and told it that i preferred highways. i was parked at a truck stop in the cincinnati oh area. my next pickup was about 15 miles down the same freeway but on the other side of it a couple of blocks. my cell phone gps (sprint) said to get on the freeway to get to my pickup. the tnd 700 routed me thru 23 miles of residential streets before finally getting me to my pickup. very exciting, especially since every time i refused to turn down a street posted \"no the tnd 700 took almost 5 minutes to figure a re-route, and it happened multiple times on that short trip.i decided to give it another chance. after my pickup on the north side of cincinnati just off of i-75 i needed to head to phoenix az via easy route is to just hop on i-75 and drive west and south to the intersection of indeed, that is what my cell phone advised. the tnd 700, however, wanted to route me over surface streets across the city and pick up i-75 on the other side of the city. i turned it off and the next time i passed a truck stop of the same chain i purchased it at i returned it and got my money back.i then spent $30 on a cheap printer. now i take a minute to set up my route on google and print it out. hasn\\'t gotten me lost yet over several cross country trips.',\n",
              " \"well, what can i say. i've had this unit in my truck for about four days now. prior to that i had a garmin 755t gps. one of my favorite features in that unit was the ability to plan a route by determining mileage using the stop or via feature. what i would do is using a map i would route myself several different ways forcing the unit by putting in stops or vias at different locations along the route, otherwise, like most gps 's, it determines what it thinks is the best route. i could add up to 10 via's or stop points for each route and then based on mileage and other factors determine which is the best route to take. multiple stops and the ability to route was the most important reason for having the garmin. however it was not truck specific. and considering i am now hauling strictly hazmat i wanted something that would take that into consideration. after perusing various forums, review sites, and word-of-mouth my choices boiled down to the garmin 465t or the rand mcnally tnd 700. even though it was quite a bit more than the garmin i chose the tnd 700 for several reasons. the main one being the extra screen size, and its ability to coordinate with the rand mcnally truck atlas and also its ease of on to my first impression of the tnd 700. it seems to be an aesthetically pleasing and durably built unit. the first thing i noticed was it's very slow to boot compared to my old garmin. whether this is unique to the tnd 700 or is common amongst all truck specific gps units i cannot tell, but it's really not that big of a deal. the second thing i noticed was the overwhelming wealth of information put forth. that might explain why the manual (available via the tnd dock) is well over 100 pages long..... there is somewhat of a learning curve with this unit. the next thing i noticed was the complexity of entering routes. as previously mentioned i like to force it into my preferred routing by the use of stops or that was a big no go with this unit. while you can enter multiple stops or vias it is nowhere near as user-friendly as my old garmin. furthermore there is no way you can determine total mileage on the route that you have chosen, as i could with the garmin. totally flummoxed by what appeared to be an omission of one of the best routing tools a trucker could have i went online and verified through an expert source connected with rand mcnally that no, that feature was a couple updates down the line and was not available at this point. unbelievable. also forcing the unit to follow a specific route can be very challenging. for a unit of this price, and feature laden, i find this totally unacceptable. i am still mulling over selling this unit and buying the garmin i really do like this gps, the screen is magnificent, and the volume is thing i've noticed, which i do not think is unique to this unit, is some of the weird routing that it does. i've never owned a truck specific gps before but after playing with this one for a couple of days i get the impression that what rand (and the others that use has done is take a plain old car specific navteq map and a road atlas with truck restrictions and made notifications on the map. in most databases there is not a 100% thorough listing of every road in the country. what i mean is that this unit will route you down roads you don't belong on. today while coming home it tried routing me on several 9 ton county roads. what that means is that a truck is limited to unless the road is posted at 10 tons. county roads do not have that restriction listed in the rand mcnally road atlas, so i believe that is why it is not also unacceptable in a unit of this price and sold as truck specific. however i'd be willing to bet the other truck specific units are the same way as no one has ever done a truck specific version of bone i have to pick is the poi's. not only the truck specific ones but the others all seem to be somewhat outdated. i think the garmin, at least the ones that i have used, are more current. it would also be nice if i could add my own sum it up i will keep this unit a little longer to see if i can make it workable. if not i will go back to garmin. i like the concept and i like the unit but at this point i'll have to say i am somewhat to determine route mileage by multiple stops and somewhat outdated poi specific\"]"
            ]
          },
          "metadata": {},
          "execution_count": 6
        }
      ]
    },
    {
      "cell_type": "code",
      "metadata": {
        "colab": {
          "base_uri": "https://localhost:8080/"
        },
        "id": "3SBBZZnh6IyD",
        "outputId": "db7a1d09-1ac8-4f64-a019-be971a1acc13"
      },
      "source": [
        "from sklearn.feature_extraction.text import CountVectorizer\n",
        "import numpy as np\n",
        "!pip install numpyencoder\n",
        "from numpyencoder import NumpyEncoder"
      ],
      "execution_count": 7,
      "outputs": [
        {
          "output_type": "stream",
          "name": "stdout",
          "text": [
            "Collecting numpyencoder\n",
            "  Downloading numpyencoder-0.3.0-py3-none-any.whl (3.0 kB)\n",
            "Requirement already satisfied: numpy>=1.14.3 in /usr/local/lib/python3.7/dist-packages (from numpyencoder) (1.19.5)\n",
            "Installing collected packages: numpyencoder\n",
            "Successfully installed numpyencoder-0.3.0\n"
          ]
        }
      ]
    },
    {
      "cell_type": "code",
      "metadata": {
        "id": "XbdH9D8d5Ds8"
      },
      "source": [
        "count_model = CountVectorizer(ngram_range=(1,1), dtype=np.float)\n",
        "X = count_model.fit_transform(cleaned_reviews)\n",
        "Xc = (X.T * X) \n",
        "Xc.setdiag(0)"
      ],
      "execution_count": 8,
      "outputs": []
    },
    {
      "cell_type": "code",
      "metadata": {
        "id": "TOVlwvOE7DYJ"
      },
      "source": [
        "import json\n",
        "with open('vocab.json', 'w') as fp:\n",
        "    json.dump(count_model.vocabulary_, fp, cls=NumpyEncoder)"
      ],
      "execution_count": 9,
      "outputs": []
    },
    {
      "cell_type": "code",
      "metadata": {
        "id": "FqqEZGsw7DdD"
      },
      "source": [
        "from scipy import sparse\n",
        "from scipy.sparse.linalg import svds"
      ],
      "execution_count": 10,
      "outputs": []
    },
    {
      "cell_type": "code",
      "metadata": {
        "id": "B6_Sn6iM7Dg3"
      },
      "source": [
        "sparse.save_npz(\"xc_new.npz\", Xc)"
      ],
      "execution_count": 11,
      "outputs": []
    },
    {
      "cell_type": "code",
      "metadata": {
        "id": "3oPD2xTm7Dkb"
      },
      "source": [
        "# Xc = sparse.load_npz(\"xc_new.npz\")"
      ],
      "execution_count": 12,
      "outputs": []
    },
    {
      "cell_type": "code",
      "metadata": {
        "id": "7RKuaTJb7Do8",
        "colab": {
          "base_uri": "https://localhost:8080/"
        },
        "outputId": "d7beabde-4ee5-45cb-e592-0a79bbfd1553"
      },
      "source": [
        "u,s,vt= svds(Xc, k=10)\n",
        "u.shape, s.shape, vt.shape"
      ],
      "execution_count": 13,
      "outputs": [
        {
          "output_type": "execute_result",
          "data": {
            "text/plain": [
              "((82329, 10), (10,), (10, 82329))"
            ]
          },
          "metadata": {},
          "execution_count": 13
        }
      ]
    },
    {
      "cell_type": "code",
      "metadata": {
        "id": "A3ZJo7Jq7Ds7"
      },
      "source": [
        "vec_reps = u * s\n",
        "\n",
        "f = open('/content/drive/My Drive/data/vocab.json')\n",
        "vocabulary = json.load(f)"
      ],
      "execution_count": 14,
      "outputs": []
    },
    {
      "cell_type": "code",
      "metadata": {
        "id": "sicu6S_J7DwW"
      },
      "source": [
        "# reverse_vocabulary = {v: k for k, v in count_model.vocabulary_.items()}\n",
        "# vocabulary = count_model.vocabulary_\n",
        "reverse_vocabulary = {v: k for k, v in vocabulary.items()}\n",
        "\n",
        "words = ['camera','clean','depressed','run','wallet']\n",
        "word_vec = [vocabulary[i] for i in words]\n",
        "word_vec"
      ],
      "execution_count": 15,
      "outputs": []
    },
    {
      "cell_type": "code",
      "metadata": {
        "colab": {
          "base_uri": "https://localhost:8080/"
        },
        "id": "sJZKDtBrIFAy",
        "outputId": "9a90791d-2e49-4445-961d-f06dee9ec5cf"
      },
      "source": [
        ""
      ],
      "execution_count": 17,
      "outputs": [
        {
          "output_type": "execute_result",
          "data": {
            "text/plain": [
              "[16562, 18638, 23574, 62288, 78709]"
            ]
          },
          "metadata": {},
          "execution_count": 17
        }
      ]
    },
    {
      "cell_type": "code",
      "metadata": {
        "id": "oQSJJYM4IFEr"
      },
      "source": [
        "from numpy.linalg import norm"
      ],
      "execution_count": 18,
      "outputs": []
    },
    {
      "cell_type": "code",
      "metadata": {
        "id": "icadsMdNIFIN"
      },
      "source": [
        "all_vec = [[] for i in word_vec]\n",
        "for k,target in enumerate(word_vec):\n",
        "  for i,vector in enumerate(vec_reps):\n",
        "    dist = norm(vec_reps[target]-vector)\n",
        "    all_vec[k].append({i:dist})\n",
        "for i,item in enumerate(all_vec):\n",
        "  all_vec[i] = sorted(all_vec[i], key=lambda x: list(x.values())[0])"
      ],
      "execution_count": 19,
      "outputs": []
    },
    {
      "cell_type": "code",
      "metadata": {
        "colab": {
          "base_uri": "https://localhost:8080/"
        },
        "id": "bUHeWPv-IFLg",
        "outputId": "6caa262f-850a-4a10-be7a-76b0afe3dde2"
      },
      "source": [
        "final_words = []\n",
        "for i,item in enumerate(all_vec):\n",
        "  print(f\"For {words[i]}:\")\n",
        "  for j in all_vec[i][1:11]:\n",
        "    word_key = list(j.keys())[0]\n",
        "    print(reverse_vocabulary[word_key])\n",
        "    final_words.append(word_key)\n",
        "  print()"
      ],
      "execution_count": 20,
      "outputs": [
        {
          "output_type": "stream",
          "name": "stdout",
          "text": [
            "For camera:\n",
            "which\n",
            "than\n",
            "no\n",
            "about\n",
            "me\n",
            "good\n",
            "get\n",
            "had\n",
            "would\n",
            "there\n",
            "\n",
            "For clean:\n",
            "impressed\n",
            "12\n",
            "coming\n",
            "internal\n",
            "near\n",
            "drivers\n",
            "colors\n",
            "wife\n",
            "tiny\n",
            "smart\n",
            "\n",
            "For depressed:\n",
            "threading\n",
            "smoothing\n",
            "omni\n",
            "springs\n",
            "binder\n",
            "redesign\n",
            "flatter\n",
            "retained\n",
            "sensing\n",
            "tug\n",
            "\n",
            "For run:\n",
            "yet\n",
            "said\n",
            "dvd\n",
            "won\n",
            "life\n",
            "least\n",
            "connection\n",
            "charge\n",
            "second\n",
            "manual\n",
            "\n",
            "For wallet:\n",
            "student\n",
            "worries\n",
            "law\n",
            "smartphones\n",
            "geek\n",
            "disappoint\n",
            "nifty\n",
            "rocks\n",
            "tank\n",
            "walmart\n",
            "\n"
          ]
        }
      ]
    },
    {
      "cell_type": "code",
      "metadata": {
        "id": "L2o_mDTzIFO7"
      },
      "source": [
        "from sklearn.manifold import TSNE\n",
        "import matplotlib.pyplot as plt\n",
        "def tsne_plot():\n",
        "    \"Creates and TSNE model and plots it\"\n",
        "    labels, tokens = [], []\n",
        "\n",
        "    for word in range(len(final_words)):\n",
        "        tokens.append(vec_reps[final_words[word]])\n",
        "        labels.append(reverse_vocabulary[final_words[word]])\n",
        "    \n",
        "    tsne_model = TSNE(perplexity=20, n_components=2, init='pca', n_iter=2500, random_state=23)\n",
        "    new_values = tsne_model.fit_transform(tokens)\n",
        "\n",
        "    x, y = [], []\n",
        "    for value in new_values:\n",
        "        x.append(value[0])\n",
        "        y.append(value[1])\n",
        "        \n",
        "    plt.figure(figsize=(16, 16)) \n",
        "    for i in range(len(x)):\n",
        "        plt.scatter(x[i],y[i])\n",
        "        plt.annotate(labels[i],xy=(x[i], y[i]),xytext=(5, 2),textcoords='offset points',ha='right',va='bottom')\n",
        "    plt.show()\n",
        "  tsne_plot()"
      ],
      "execution_count": 21,
      "outputs": []
    },
    {
      "cell_type": "code",
      "metadata": {
        "colab": {
          "base_uri": "https://localhost:8080/",
          "height": 931
        },
        "id": "_F0cWq9iIFSn",
        "outputId": "daff864a-eb30-466e-fc85-0228948c3ce9"
      },
      "source": [
        ""
      ],
      "execution_count": 22,
      "outputs": [
        {
          "output_type": "display_data",
          "data": {
            "image/png": "[encoded data removed]",
            "text/plain": [
              "<Figure size 1152x1152 with 1 Axes>"
            ]
          },
          "metadata": {
            "needs_background": "light"
          }
        }
      ]
    },
    {
      "cell_type": "code",
      "metadata": {
        "id": "2HrZdo36IFWt"
      },
      "source": [
        ""
      ],
      "execution_count": null,
      "outputs": []
    },
    {
      "cell_type": "code",
      "metadata": {
        "id": "KW4U88hUIFZ4"
      },
      "source": [
        ""
      ],
      "execution_count": null,
      "outputs": []
    },
    {
      "cell_type": "code",
      "metadata": {
        "id": "0utdvZhYIFgI"
      },
      "source": [
        ""
      ],
      "execution_count": null,
      "outputs": []
    },
    {
      "cell_type": "code",
      "metadata": {
        "id": "zEf47mjPIFii"
      },
      "source": [
        ""
      ],
      "execution_count": null,
      "outputs": []
    },
    {
      "cell_type": "code",
      "metadata": {
        "id": "2L-7RbQZIFkN"
      },
      "source": [
        ""
      ],
      "execution_count": null,
      "outputs": []
    },
    {
      "cell_type": "code",
      "metadata": {
        "id": "PJhr7gp2IFng"
      },
      "source": [
        ""
      ],
      "execution_count": null,
      "outputs": []
    }
  ]
}