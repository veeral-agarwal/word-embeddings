{
 "cells": [
  {
   "cell_type": "markdown",
   "metadata": {
    "id": "ARSYQsLUoxrD"
   },
   "source": [
    "# 1. Preprocessing\n"
   ]
  },
  {
   "cell_type": "code",
   "execution_count": null,
   "metadata": {
    "colab": {
     "base_uri": "https://localhost:8080/"
    },
    "id": "yaU5oekPl6l7",
    "outputId": "3db73498-2af5-4ad8-e338-057d911bb9f4"
   },
   "outputs": [
    {
     "name": "stdout",
     "output_type": "stream",
     "text": [
      "--2021-09-11 10:53:22--  http://snap.stanford.edu/data/amazon/productGraph/categoryFiles/reviews_Electronics_5.json.gz\n",
      "Resolving snap.stanford.edu (snap.stanford.edu)... 171.64.75.80\n",
      "Connecting to snap.stanford.edu (snap.stanford.edu)|171.64.75.80|:80... connected.\n",
      "HTTP request sent, awaiting response... 200 OK\n",
      "Length: 495854086 (473M) [application/x-gzip]\n",
      "Saving to: ‘reviews_Electronics_5.json.gz’\n",
      "\n",
      "reviews_Electronics 100%[===================>] 472.88M  7.88MB/s    in 98s     \n",
      "\n",
      "2021-09-11 10:55:00 (4.82 MB/s) - ‘reviews_Electronics_5.json.gz’ saved [495854086/495854086]\n",
      "\n"
     ]
    }
   ],
   "source": [
    "!wget http://snap.stanford.edu/data/amazon/productGraph/categoryFiles/reviews_Electronics_5.json.gz"
   ]
  },
  {
   "cell_type": "code",
   "execution_count": null,
   "metadata": {
    "id": "KWX_hjOZmQiu"
   },
   "outputs": [],
   "source": [
    "!gzip -d reviews_Electronics_5.json.gz"
   ]
  },
  {
   "cell_type": "code",
   "execution_count": null,
   "metadata": {
    "id": "hEHamtp4mxeI"
   },
   "outputs": [],
   "source": [
    "import json"
   ]
  },
  {
   "cell_type": "code",
   "execution_count": null,
   "metadata": {
    "id": "pxPySXAynX8U"
   },
   "outputs": [],
   "source": [
    "data = []\n",
    "for line in open('reviews_Electronics_5.json', 'r'):\n",
    "    data.append(json.loads(line))"
   ]
  },
  {
   "cell_type": "code",
   "execution_count": null,
   "metadata": {
    "colab": {
     "base_uri": "https://localhost:8080/"
    },
    "id": "qOjhuYsrnfPa",
    "outputId": "c70d43c0-234e-4d6a-a45a-06bc926d942c"
   },
   "outputs": [
    {
     "data": {
      "text/plain": [
       "1689188"
      ]
     },
     "execution_count": 86,
     "metadata": {},
     "output_type": "execute_result"
    }
   ],
   "source": [
    "len(data)"
   ]
  },
  {
   "cell_type": "code",
   "execution_count": null,
   "metadata": {
    "colab": {
     "base_uri": "https://localhost:8080/"
    },
    "id": "Rk9w5kyVoh3k",
    "outputId": "2996a40c-4e6f-4b15-c364-bdb3ccbf0250"
   },
   "outputs": [
    {
     "data": {
      "text/plain": [
       "{'asin': '0528881469',\n",
       " 'helpful': [0, 0],\n",
       " 'overall': 5.0,\n",
       " 'reviewText': 'We got this GPS for my husband who is an (OTR) over the road trucker.  Very Impressed with the shipping time, it arrived a few days earlier than expected...  within a week of use however it started freezing up... could of just been a glitch in that unit.  Worked great when it worked!  Will work great for the normal person as well but does have the \"trucker\" option. (the big truck routes - tells you when a scale is coming up ect...)  Love the bigger screen, the ease of use, the ease of putting addresses into memory.  Nothing really bad to say about the unit with the exception of it freezing which is probably one in a million and that\\'s just my luck.  I contacted the seller and within minutes of my email I received a email back with instructions for an exchange! VERY impressed all the way around!',\n",
       " 'reviewTime': '06 2, 2013',\n",
       " 'reviewerID': 'AO94DHGC771SJ',\n",
       " 'reviewerName': 'amazdnu',\n",
       " 'summary': 'Gotta have GPS!',\n",
       " 'unixReviewTime': 1370131200}"
      ]
     },
     "execution_count": 87,
     "metadata": {},
     "output_type": "execute_result"
    }
   ],
   "source": [
    "data[0]"
   ]
  },
  {
   "cell_type": "code",
   "execution_count": null,
   "metadata": {
    "id": "ETj85qx7on5f"
   },
   "outputs": [],
   "source": [
    "reviews = [entry[\"reviewText\"] for entry in data]"
   ]
  },
  {
   "cell_type": "code",
   "execution_count": null,
   "metadata": {
    "colab": {
     "base_uri": "https://localhost:8080/"
    },
    "id": "n_mqKgbWos_7",
    "outputId": "455dbe69-2ef1-4d21-ca7f-809ac9fefdb4"
   },
   "outputs": [
    {
     "data": {
      "text/plain": [
       "['We got this GPS for my husband who is an (OTR) over the road trucker.  Very Impressed with the shipping time, it arrived a few days earlier than expected...  within a week of use however it started freezing up... could of just been a glitch in that unit.  Worked great when it worked!  Will work great for the normal person as well but does have the \"trucker\" option. (the big truck routes - tells you when a scale is coming up ect...)  Love the bigger screen, the ease of use, the ease of putting addresses into memory.  Nothing really bad to say about the unit with the exception of it freezing which is probably one in a million and that\\'s just my luck.  I contacted the seller and within minutes of my email I received a email back with instructions for an exchange! VERY impressed all the way around!',\n",
       " 'I\\'m a professional OTR truck driver, and I bought a TND 700 at a truck stop hoping to make my life easier.  Rand McNally, are you listening?First thing I did after charging it was connect it to my laptop and install the software and then attempt to update it.  The software detected a problem with my update and wanted my home address so I could be sent a patch on an SD card.  Hello?  I don\\'t think I\\'m all that unusual; my home address is a PO box that a friend checks weekly and that I might get to check every six months or so.  I live in my truck and at truck stops.  If you need to make a patch available on an SD card then you should send the SD cards to the truck stops where the devices are sold.  I ran the update program multiple times until the program said that the TND 700 was completely updated.I programmed in the height (13\\'6\"), the length (53\\') and the weight (80,000#) of my rig and told it that I preferred highways.  I was parked at a truck stop in the Cincinnati OH area.  My next pickup was about 15 miles down the same freeway but on the other side of it a couple of blocks.  My cell phone GPS (Sprint) said to get on the freeway to get to my pickup.  The TND 700 routed me thru 23 miles of residential streets before finally getting me to my pickup.  Very exciting, especially since every time I refused to turn down a street posted \"No Trucks\" the TND 700 took almost 5 minutes to figure a re-route, and it happened multiple times on that short trip.I decided to give it another chance.  After my pickup on the north side of Cincinnati just off of I-75 I needed to head to Phoenix AZ via I-71.  Easy route is to just hop on I-75 and drive west and south to the intersection of I-71.  Indeed, that is what my cell phone advised.  The TND 700, however, wanted to route me over surface streets across the city and pick up I-75 on the other side of the city.  I turned it off and the next time I passed a truck stop of the same chain I purchased it at I returned it and got my money back.I then spent $30 on a cheap printer.  Now I take a minute to set up my route on Google and print it out.  Hasn\\'t gotten me lost yet over several cross country trips.',\n",
       " \"Well, what can I say.  I've had this unit in my truck for about four days now.  Prior to that I had a Garmin 755T non-truck GPS.  One of my favorite features in that unit was the ability to plan a route by determining mileage using the stop or via feature.  What I would do is using a map I would route myself several different ways forcing the unit by putting in stops or vias at different locations along the route, otherwise, like most GPS 's, it determines what it thinks is the best route.  I could add up to 10 Via's or stop points for each route and then based on mileage and other factors determine which is the best route to take.  Multiple stops and the ability to route was the most important reason for having the Garmin.  However it was not truck specific.  And considering I am now hauling strictly hazmat I wanted something that would take that into consideration.  After perusing various forums, review sites, and word-of-mouth my choices boiled down to the Garmin 465T or the RAND McNally Intelliroute TND 700.  Even though it was quite a bit more than the Garmin I chose the TND 700 for several reasons.  The main one being the extra screen size, and its ability to coordinate with the RAND McNally truck atlas and also its ease of updating.Now on to my first impression of the TND 700.  It seems to be an aesthetically pleasing and durably built unit.  The first thing I noticed was it's very slow to boot compared to my old Garmin.  Whether this is unique to the TND 700 or is common amongst all truck specific gps units I cannot tell, but it's really not that big of a deal.  The second thing I noticed was the overwhelming wealth of information put forth.  That might explain why the manual (available via the TND dock) is well over 100 pages long.....  There is somewhat of a learning curve with this unit.  The next thing I noticed was the complexity of entering routes.  As previously mentioned I like to force it into my preferred routing by the use of stops or vias.  That was a big no go with this unit.  While you can enter multiple stops or vias it is nowhere near as user-friendly as my old Garmin.  Furthermore there is no way you can determine total mileage on the route that you have chosen, as I could with the Garmin.  Totally flummoxed by what appeared to be an omission of one of the best routing tools a trucker could have I went online and verified through an expert source connected with RAND McNally that no, that feature was a couple updates down the line and was not available at this point.  Unbelievable.  Also forcing the unit to follow a specific route can be very challenging.  For a unit of this price, and feature laden, I find this totally unacceptable.  I am still mulling over selling this unit  and buying the Garmin 465T.  I really do like this GPS, the screen is magnificent, and the volume is awesome.Another thing I've noticed, which I do not think is unique to this unit, is some of the weird routing that it does.  I've never owned a truck specific GPS before but after playing with this one for a couple of days I get the impression that what RAND MacNally (and the others that use Navteq) has done is take a plain old car specific Navteq map and a road atlas with truck restrictions and made notifications on the map.  In most databases there is not a 100% thorough listing of every road in the country.  What I mean is that this unit will route you down roads you don't belong on.  Today while coming home it tried routing me on several  9 ton County roads.  What that means is that a truck is limited to 73280 unless the road is posted at 10 tons.  County roads do not have that restriction listed in the RAND McNally road atlas, so I believe that is why it is not listed.....  Also unacceptable in a unit of this price and sold as truck specific.  However I'd be willing to bet the other truck specific units are the same way as no one has ever done a truck specific version of NavTeq.Another bone I have to pick is the POI's. Not only the truck specific ones but the others all seem to be somewhat outdated.  I think the Garmin, at least the ones that I have used, are more current.  It would also be nice if I could add my own POI'sTo sum it up I will keep this unit a little longer to see if I can make it workable.  If not I will go back to Garmin.  I like the concept and I like the unit but at this point I'll have to say I am somewhat unimpressed.pros:Large screenterrific imagesoutstanding volumecons:inability to determine route mileage by multiple stops and viasa somewhat outdated POI information.Non-truck specific routings.Cost.\"]"
      ]
     },
     "execution_count": 89,
     "metadata": {},
     "output_type": "execute_result"
    }
   ],
   "source": [
    "reviews[:3]"
   ]
  },
  {
   "cell_type": "code",
   "execution_count": null,
   "metadata": {
    "id": "xkFA94VAxCK-"
   },
   "outputs": [],
   "source": [
    "from collections import Counter"
   ]
  },
  {
   "cell_type": "code",
   "execution_count": null,
   "metadata": {
    "id": "OXWuIlaFxKzA"
   },
   "outputs": [],
   "source": [
    "c = Counter()"
   ]
  },
  {
   "cell_type": "code",
   "execution_count": null,
   "metadata": {
    "colab": {
     "base_uri": "https://localhost:8080/"
    },
    "id": "Cac6wlGrxd_e",
    "outputId": "e81ebf9d-5bec-41bc-a0cb-753c0832f068"
   },
   "outputs": [
    {
     "name": "stdout",
     "output_type": "stream",
     "text": [
      "0\n",
      "337837\n",
      "675674\n",
      "1013511\n",
      "1351348\n",
      "1689185\n"
     ]
    }
   ],
   "source": [
    "i = 0\n",
    "for review in reviews:\n",
    "  if i%(len(reviews)//5) == 0:\n",
    "    print(i)\n",
    "  i+=1\n",
    "  words = review.split()\n",
    "  for word in words:\n",
    "    c[word.lower()]+=1"
   ]
  },
  {
   "cell_type": "code",
   "execution_count": null,
   "metadata": {
    "colab": {
     "base_uri": "https://localhost:8080/"
    },
    "id": "l63RQfTcy-6S",
    "outputId": "604d841b-a99f-480c-b7ee-c8464535e320"
   },
   "outputs": [
    {
     "data": {
      "text/plain": [
       "2738411"
      ]
     },
     "execution_count": 93,
     "metadata": {},
     "output_type": "execute_result"
    }
   ],
   "source": [
    "len(c)"
   ]
  },
  {
   "cell_type": "code",
   "execution_count": null,
   "metadata": {
    "id": "JznAiAhrzYOU"
   },
   "outputs": [],
   "source": [
    "too_infrequent = 0"
   ]
  },
  {
   "cell_type": "code",
   "execution_count": null,
   "metadata": {
    "id": "4CRZcDV0zAaR"
   },
   "outputs": [],
   "source": [
    "for word in c:\n",
    "  if c[word]<5:\n",
    "    too_infrequent+=1"
   ]
  },
  {
   "cell_type": "code",
   "execution_count": null,
   "metadata": {
    "colab": {
     "base_uri": "https://localhost:8080/"
    },
    "id": "E9AfkI0uza4I",
    "outputId": "6a85200a-09ac-41a7-88c4-6b1b84279a97"
   },
   "outputs": [
    {
     "data": {
      "text/plain": [
       "299049"
      ]
     },
     "execution_count": 96,
     "metadata": {},
     "output_type": "execute_result"
    }
   ],
   "source": [
    "len(c) - too_infrequent"
   ]
  },
  {
   "cell_type": "code",
   "execution_count": null,
   "metadata": {
    "id": "AZDv-DuDzhUP"
   },
   "outputs": [],
   "source": [
    "cleaned_reviews = []"
   ]
  },
  {
   "cell_type": "code",
   "execution_count": null,
   "metadata": {
    "colab": {
     "base_uri": "https://localhost:8080/"
    },
    "id": "mHMxszn7sYJk",
    "outputId": "47daa66d-0afc-4890-c028-ae0868b50f10"
   },
   "outputs": [
    {
     "name": "stdout",
     "output_type": "stream",
     "text": [
      "[nltk_data] Downloading package stopwords to /root/nltk_data...\n",
      "[nltk_data]   Unzipping corpora/stopwords.zip.\n"
     ]
    },
    {
     "data": {
      "text/plain": [
       "True"
      ]
     },
     "execution_count": 99,
     "metadata": {},
     "output_type": "execute_result"
    }
   ],
   "source": [
    "import nltk\n",
    "nltk.download('stopwords')"
   ]
  },
  {
   "cell_type": "code",
   "execution_count": null,
   "metadata": {
    "id": "ZSnJseBtoiXo"
   },
   "outputs": [],
   "source": [
    "from nltk.corpus import stopwords\n",
    "stop_words = set(stopwords.words('english'))\n",
    "from nltk.tokenize import RegexpTokenizer\n",
    "\n",
    "tokenizer = RegexpTokenizer(r'\\w+')\n",
    "x = tokenizer.tokenize('Eighty-seven miles to go, yet.  Onward!')"
   ]
  },
  {
   "cell_type": "code",
   "execution_count": null,
   "metadata": {
    "colab": {
     "base_uri": "https://localhost:8080/"
    },
    "id": "-lGbPxSRzk2N",
    "outputId": "bea46db5-868f-4445-a2df-72d9aba19955"
   },
   "outputs": [
    {
     "name": "stdout",
     "output_type": "stream",
     "text": [
      "0\n",
      "337837\n",
      "675674\n",
      "1013511\n",
      "1351348\n",
      "1689185\n"
     ]
    }
   ],
   "source": [
    "i = 0\n",
    "for review in reviews:\n",
    "  if i%(len(reviews)//5) == 0:\n",
    "    print(i)\n",
    "  i+=1\n",
    "  words = tokenizer.tokenize(review)\n",
    "  new_words = []\n",
    "  for word in words:\n",
    "    word = word.lower()\n",
    "    if c[word]>=5 and word not in stop_words:\n",
    "      new_words.append(word)\n",
    "  new_review = \" \".join(new_words)\n",
    "  cleaned_reviews.append(new_review)"
   ]
  },
  {
   "cell_type": "code",
   "execution_count": null,
   "metadata": {
    "id": "pmbBNJZgbqDL"
   },
   "outputs": [],
   "source": [
    "with open('reviews.txt', 'w') as f:\n",
    "    for item in cleaned_reviews:\n",
    "        f.write(\"%s\\n\" % item)"
   ]
  },
  {
   "cell_type": "markdown",
   "metadata": {
    "id": "JybuMwMPq9Qo"
   },
   "source": [
    "# 2. Generating Co-occurence Matrix"
   ]
  },
  {
   "cell_type": "code",
   "execution_count": null,
   "metadata": {
    "id": "p1xMGacMQq2j"
   },
   "outputs": [],
   "source": [
    "with open('reviews.txt') as file:\n",
    "    cleaned_reviews = file.readlines()\n",
    "    cleaned_reviews = [line.rstrip() for line in cleaned_reviews]"
   ]
  },
  {
   "cell_type": "code",
   "execution_count": null,
   "metadata": {
    "colab": {
     "base_uri": "https://localhost:8080/"
    },
    "id": "VUZhp0_Y0sME",
    "outputId": "d2506461-8225-4d1a-9707-46ebf45abab2"
   },
   "outputs": [
    {
     "data": {
      "text/plain": [
       "['got gps husband otr road trucker impressed shipping time arrived days earlier expected within week use however started freezing could glitch unit worked great worked work great normal person well trucker option big truck routes tells scale coming ect love bigger screen ease use ease putting addresses memory nothing really bad say unit exception freezing probably one million luck contacted seller within minutes email received email back instructions exchange impressed way around',\n",
       " 'professional otr truck driver bought tnd 700 truck stop hoping make life easier rand mcnally listening first thing charging connect laptop install software attempt update software detected problem update wanted home address could sent patch sd card hello think unusual home address po box friend checks weekly might get check every six months live truck truck stops need make patch available sd card send sd cards truck stops devices sold ran update program multiple times program said tnd 700 completely updated programmed height 13 6 length 53 weight 80 000 rig told preferred highways parked truck stop cincinnati oh area next pickup 15 miles freeway side couple blocks cell phone gps sprint said get freeway get pickup tnd 700 routed thru 23 miles residential streets finally getting pickup exciting especially since every time refused turn street posted trucks tnd 700 took almost 5 minutes figure route happened multiple times short trip decided give another chance pickup north side cincinnati 75 needed head phoenix az via 71 easy route hop 75 drive west south intersection 71 indeed cell phone advised tnd 700 however wanted route surface streets across city pick 75 side city turned next time passed truck stop chain purchased returned got money back spent 30 cheap printer take minute set route google print gotten lost yet several cross country trips',\n",
       " 'well say unit truck four days prior garmin 755t non truck gps one favorite features unit ability plan route determining mileage using stop via feature would using map would route several different ways forcing unit putting stops vias different locations along route otherwise like gps determines thinks best route could add 10 via stop points route based mileage factors determine best route take multiple stops ability route important reason garmin however truck specific considering hauling strictly hazmat wanted something would take consideration perusing various forums review sites word mouth choices boiled garmin 465t rand mcnally tnd 700 even though quite bit garmin chose tnd 700 several reasons main one extra screen size ability coordinate rand mcnally truck atlas also ease updating first impression tnd 700 seems aesthetically pleasing durably built unit first thing noticed slow boot compared old garmin whether unique tnd 700 common amongst truck specific gps units cannot tell really big deal second thing noticed overwhelming wealth information put forth might explain manual available via tnd dock well 100 pages long somewhat learning curve unit next thing noticed complexity entering routes previously mentioned like force preferred routing use stops vias big go unit enter multiple stops vias nowhere near user friendly old garmin furthermore way determine total mileage route chosen could garmin totally flummoxed appeared omission one best routing tools trucker could went online verified expert source connected rand mcnally feature couple updates line available point unbelievable also forcing unit follow specific route challenging unit price feature laden find totally unacceptable still mulling selling unit buying garmin 465t really like gps screen magnificent volume awesome another thing noticed think unique unit weird routing never owned truck specific gps playing one couple days get impression rand others use navteq done take plain old car specific navteq map road atlas truck restrictions made notifications map databases 100 thorough listing every road country mean unit route roads belong today coming home tried routing several 9 ton county roads means truck limited unless road posted 10 tons county roads restriction listed rand mcnally road atlas believe listed also unacceptable unit price sold truck specific however willing bet truck specific units way one ever done truck specific version navteq another bone pick poi truck specific ones others seem somewhat outdated think garmin least ones used current would also nice could add poi sto sum keep unit little longer see make workable go back garmin like concept like unit point say somewhat unimpressed pros large inability determine route mileage multiple stops somewhat outdated poi information non truck specific routings cost']"
      ]
     },
     "execution_count": 2,
     "metadata": {},
     "output_type": "execute_result"
    }
   ],
   "source": [
    "cleaned_reviews[:3]"
   ]
  },
  {
   "cell_type": "code",
   "execution_count": null,
   "metadata": {
    "id": "I462gKjPrAqe"
   },
   "outputs": [],
   "source": [
    "from sklearn.feature_extraction.text import CountVectorizer"
   ]
  },
  {
   "cell_type": "code",
   "execution_count": null,
   "metadata": {
    "id": "ijGOOlk6MRuf"
   },
   "outputs": [],
   "source": [
    "import numpy as np"
   ]
  },
  {
   "cell_type": "code",
   "execution_count": null,
   "metadata": {
    "id": "M8KSalQ7tyyU"
   },
   "outputs": [],
   "source": [
    "count_model = CountVectorizer(ngram_range=(1,1), dtype=np.float)\n",
    "X = count_model.fit_transform(cleaned_reviews)\n",
    "Xc = (X.T * X) \n",
    "Xc.setdiag(0)"
   ]
  },
  {
   "cell_type": "code",
   "execution_count": null,
   "metadata": {
    "colab": {
     "base_uri": "https://localhost:8080/"
    },
    "id": "mBpjM31oS8dX",
    "outputId": "5e3d564f-f88a-491e-87dd-201182e6f46d"
   },
   "outputs": [
    {
     "name": "stdout",
     "output_type": "stream",
     "text": [
      "Requirement already satisfied: numpyencoder in /usr/local/lib/python3.7/dist-packages (0.3.0)\n",
      "Requirement already satisfied: numpy>=1.14.3 in /usr/local/lib/python3.7/dist-packages (from numpyencoder) (1.19.5)\n"
     ]
    }
   ],
   "source": [
    "!pip install numpyencoder"
   ]
  },
  {
   "cell_type": "code",
   "execution_count": null,
   "metadata": {
    "id": "-w4_g1o_SrVr"
   },
   "outputs": [],
   "source": [
    "import json\n",
    "from numpyencoder import NumpyEncoder"
   ]
  },
  {
   "cell_type": "code",
   "execution_count": null,
   "metadata": {
    "id": "pR6q2ILlSRYL"
   },
   "outputs": [],
   "source": [
    "with open('vocab.json', 'w') as fp:\n",
    "    json.dump(count_model.vocabulary_, fp, cls=NumpyEncoder)"
   ]
  },
  {
   "cell_type": "code",
   "execution_count": null,
   "metadata": {
    "id": "oFEeYhFcHLaj"
   },
   "outputs": [],
   "source": [
    "from scipy import sparse"
   ]
  },
  {
   "cell_type": "code",
   "execution_count": null,
   "metadata": {
    "id": "Z_789OxLHHGt"
   },
   "outputs": [],
   "source": [
    "sparse.save_npz(\"xc_new.npz\", Xc)"
   ]
  },
  {
   "cell_type": "code",
   "execution_count": null,
   "metadata": {
    "id": "6UdcyPmtPLVB"
   },
   "outputs": [],
   "source": [
    "# Xc = sparse.load_npz(\"xc_new.npz\")"
   ]
  },
  {
   "cell_type": "code",
   "execution_count": null,
   "metadata": {
    "colab": {
     "base_uri": "https://localhost:8080/"
    },
    "id": "zQ8tn1_K7EIr",
    "outputId": "49bc4f9f-c7c2-4e42-c132-a6d9daf4cf56"
   },
   "outputs": [
    {
     "data": {
      "text/plain": [
       "(78327, 78327)"
      ]
     },
     "execution_count": 12,
     "metadata": {},
     "output_type": "execute_result"
    }
   ],
   "source": [
    "Xc.shape"
   ]
  },
  {
   "cell_type": "code",
   "execution_count": null,
   "metadata": {
    "id": "RPUadcul2B6O"
   },
   "outputs": [],
   "source": [
    "from scipy.sparse.linalg import svds"
   ]
  },
  {
   "cell_type": "code",
   "execution_count": null,
   "metadata": {
    "id": "oiZfz0ts6RQz"
   },
   "outputs": [],
   "source": [
    "u,s,vt= svds(Xc, k=10)"
   ]
  },
  {
   "cell_type": "code",
   "execution_count": null,
   "metadata": {
    "colab": {
     "base_uri": "https://localhost:8080/"
    },
    "id": "gXAFGnnvPtAY",
    "outputId": "5db91dd7-a308-438a-cec5-92864dfbede3"
   },
   "outputs": [
    {
     "data": {
      "text/plain": [
       "((78327, 10), (10,), (10, 78327))"
      ]
     },
     "execution_count": 15,
     "metadata": {},
     "output_type": "execute_result"
    }
   ],
   "source": [
    "u.shape, s.shape, vt.shape"
   ]
  },
  {
   "cell_type": "code",
   "execution_count": null,
   "metadata": {
    "id": "2Icuw0asaL_A"
   },
   "outputs": [],
   "source": [
    "vec_reps = u * s"
   ]
  },
  {
   "cell_type": "code",
   "execution_count": null,
   "metadata": {
    "id": "v6ZqNrkagicf"
   },
   "outputs": [],
   "source": [
    "import json\n",
    "f = open('vocab.json')\n",
    "vocabulary = json.load(f)"
   ]
  },
  {
   "cell_type": "code",
   "execution_count": null,
   "metadata": {
    "id": "P8pHD1YWTWxS"
   },
   "outputs": [],
   "source": [
    "# reverse_vocabulary = {v: k for k, v in count_model.vocabulary_.items()}\n",
    "# vocabulary = count_model.vocabulary_\n",
    "reverse_vocabulary = {v: k for k, v in vocabulary.items()}"
   ]
  },
  {
   "cell_type": "code",
   "execution_count": null,
   "metadata": {
    "colab": {
     "base_uri": "https://localhost:8080/"
    },
    "id": "0oUhpRcITyz8",
    "outputId": "e58ad28a-feb8-44d9-e393-f4efa92e252a"
   },
   "outputs": [
    {
     "data": {
      "text/plain": [
       "[15220, 17221, 21987, 59165, 74894]"
      ]
     },
     "execution_count": 19,
     "metadata": {},
     "output_type": "execute_result"
    }
   ],
   "source": [
    "words = ['camera','clean','depressed','run','wallet']\n",
    "word_vec = [vocabulary[i] for i in words]\n",
    "word_vec"
   ]
  },
  {
   "cell_type": "code",
   "execution_count": null,
   "metadata": {
    "id": "v0QldgwKUMNj"
   },
   "outputs": [],
   "source": [
    "from numpy.linalg import norm"
   ]
  },
  {
   "cell_type": "code",
   "execution_count": null,
   "metadata": {
    "id": "aRFzfrKrVRPS"
   },
   "outputs": [],
   "source": [
    "all_vec = [[] for i in word_vec]"
   ]
  },
  {
   "cell_type": "code",
   "execution_count": null,
   "metadata": {
    "id": "YiHMp7TlU7UG"
   },
   "outputs": [],
   "source": [
    "for k,target in enumerate(word_vec):\n",
    "  for i,vector in enumerate(vec_reps):\n",
    "    dist = norm(vec_reps[target]-vector)\n",
    "    all_vec[k].append({i:dist})"
   ]
  },
  {
   "cell_type": "code",
   "execution_count": null,
   "metadata": {
    "id": "RgZWrn_GVQNT"
   },
   "outputs": [],
   "source": [
    "for i,item in enumerate(all_vec):\n",
    "  all_vec[i] = sorted(all_vec[i], key=lambda x: list(x.values())[0])"
   ]
  },
  {
   "cell_type": "code",
   "execution_count": null,
   "metadata": {
    "id": "NTWXgU5IrIDr"
   },
   "outputs": [],
   "source": [
    "final_words = []"
   ]
  },
  {
   "cell_type": "code",
   "execution_count": null,
   "metadata": {
    "colab": {
     "base_uri": "https://localhost:8080/"
    },
    "id": "ipucdVkSWJZw",
    "outputId": "9681bcb8-4450-44b2-9f75-b53e87d8d8b8"
   },
   "outputs": [
    {
     "name": "stdout",
     "output_type": "stream",
     "text": [
      "For camera:\n",
      "get\n",
      "good\n",
      "also\n",
      "would\n",
      "well\n",
      "great\n",
      "time\n",
      "like\n",
      "much\n",
      "even\n",
      "\n",
      "For clean:\n",
      "together\n",
      "strong\n",
      "absolutely\n",
      "care\n",
      "plenty\n",
      "cheaper\n",
      "considering\n",
      "opinion\n",
      "tiny\n",
      "pleased\n",
      "\n",
      "For depressed:\n",
      "muscle\n",
      "springs\n",
      "iteration\n",
      "grocery\n",
      "trap\n",
      "sentence\n",
      "resistive\n",
      "purposely\n",
      "tapped\n",
      "shifted\n",
      "\n",
      "For run:\n",
      "working\n",
      "running\n",
      "free\n",
      "needed\n",
      "included\n",
      "year\n",
      "version\n",
      "available\n",
      "minutes\n",
      "worked\n",
      "\n",
      "For wallet:\n",
      "carbon\n",
      "messenger\n",
      "genuine\n",
      "removal\n",
      "jacket\n",
      "snapped\n",
      "bottle\n",
      "designs\n",
      "squeeze\n",
      "gap\n",
      "\n"
     ]
    }
   ],
   "source": [
    "for i,item in enumerate(all_vec):\n",
    "  print(f\"For {words[i]}:\")\n",
    "  for j in all_vec[i][1:11]:\n",
    "    word_key = list(j.keys())[0]\n",
    "    print(reverse_vocabulary[word_key])\n",
    "    final_words.append(word_key)\n",
    "  print()"
   ]
  },
  {
   "cell_type": "code",
   "execution_count": null,
   "metadata": {
    "colab": {
     "base_uri": "https://localhost:8080/"
    },
    "id": "2GAmgRYEiHF1",
    "outputId": "4e0f2a3a-1d39-498f-acda-4606c6c13fd1"
   },
   "outputs": [
    {
     "data": {
      "text/plain": [
       "50"
      ]
     },
     "execution_count": 26,
     "metadata": {},
     "output_type": "execute_result"
    }
   ],
   "source": [
    "len(final_words)"
   ]
  },
  {
   "cell_type": "code",
   "execution_count": null,
   "metadata": {
    "colab": {
     "base_uri": "https://localhost:8080/"
    },
    "id": "fLgdPFPfrZw9",
    "outputId": "4b94ec2b-ca39-43eb-e3c2-a35ed3fec084"
   },
   "outputs": [
    {
     "data": {
      "text/plain": [
       "array([ -22033.06243555,  -27790.28368776,  -25580.45493323,\n",
       "        -78437.05236898,   15668.4983378 ,  -34339.4471958 ,\n",
       "        -34761.54349054,    3269.11240199,  -34799.82518726,\n",
       "       2634466.31901744])"
      ]
     },
     "execution_count": 27,
     "metadata": {},
     "output_type": "execute_result"
    }
   ],
   "source": [
    "vec_reps[final_words[0]]"
   ]
  },
  {
   "cell_type": "code",
   "execution_count": null,
   "metadata": {
    "id": "06DFWIxyrLWL"
   },
   "outputs": [],
   "source": [
    "from sklearn.manifold import TSNE\n",
    "import matplotlib.pyplot as plt"
   ]
  },
  {
   "cell_type": "code",
   "execution_count": null,
   "metadata": {
    "colab": {
     "base_uri": "https://localhost:8080/"
    },
    "id": "PNWpIkeYkJ6C",
    "outputId": "1c8cb7a3-163c-43d4-ac1d-d04215d90475"
   },
   "outputs": [
    {
     "data": {
      "text/plain": [
       "50"
      ]
     },
     "execution_count": 29,
     "metadata": {},
     "output_type": "execute_result"
    }
   ],
   "source": [
    "len(final_words)"
   ]
  },
  {
   "cell_type": "code",
   "execution_count": null,
   "metadata": {
    "id": "JxPcb8hmrPK5"
   },
   "outputs": [],
   "source": [
    "def tsne_plot():\n",
    "    \"Creates and TSNE model and plots it\"\n",
    "    labels = []\n",
    "    tokens = []\n",
    "\n",
    "    for word in final_words:\n",
    "        tokens.append(vec_reps[word])\n",
    "        labels.append(reverse_vocabulary[word])\n",
    "    \n",
    "    tsne_model = TSNE(perplexity=20, n_components=2, init='pca', n_iter=2500, random_state=23)\n",
    "    new_values = tsne_model.fit_transform(tokens)\n",
    "\n",
    "    x = []\n",
    "    y = []\n",
    "    for value in new_values:\n",
    "        x.append(value[0])\n",
    "        y.append(value[1])\n",
    "        \n",
    "    plt.figure(figsize=(16, 16)) \n",
    "    for i in range(len(x)):\n",
    "        plt.scatter(x[i],y[i])\n",
    "        plt.annotate(labels[i],\n",
    "                     xy=(x[i], y[i]),\n",
    "                     xytext=(5, 2),\n",
    "                     textcoords='offset points',\n",
    "                     ha='right',\n",
    "                     va='bottom')\n",
    "    plt.show()"
   ]
  },
  {
   "cell_type": "code",
   "execution_count": null,
   "metadata": {
    "colab": {
     "base_uri": "https://localhost:8080/",
     "height": 931
    },
    "id": "KQwnvU3arrJT",
    "outputId": "bc303b5b-f57d-4996-de7b-454c7d84c28a"
   },
   "outputs": [
    {
     "data": {
      "image/png": "[encoded data removed]",
      "text/plain": [
       "<Figure size 1152x1152 with 1 Axes>"
      ]
     },
     "metadata": {
      "needs_background": "light"
     },
     "output_type": "display_data"
    }
   ],
   "source": [
    "tsne_plot()"
   ]
  },
  {
   "cell_type": "code",
   "execution_count": null,
   "metadata": {
    "id": "uOSvV3zOr8Wh"
   },
   "outputs": [],
   "source": []
  }
 ],
 "metadata": {
  "colab": {
   "collapsed_sections": [],
   "name": "Advanced NLP Assignment 1 Part 1",
   "provenance": []
  },
  "kernelspec": {
   "display_name": "Python 3",
   "language": "python",
   "name": "python3"
  },
  "language_info": {
   "codemirror_mode": {
    "name": "ipython",
    "version": 3
   },
   "file_extension": ".py",
   "mimetype": "text/x-python",
   "name": "python",
   "nbconvert_exporter": "python",
   "pygments_lexer": "ipython3",
   "version": "3.8.8"
  }
 },
 "nbformat": 4,
 "nbformat_minor": 1
}
