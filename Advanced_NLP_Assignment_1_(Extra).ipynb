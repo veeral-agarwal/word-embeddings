{
  "nbformat": 4,
  "nbformat_minor": 5,
  "metadata": {
    "kernelspec": {
      "display_name": "Python 3",
      "language": "python",
      "name": "python3"
    },
    "language_info": {
      "codemirror_mode": {
        "name": "ipython",
        "version": 3
      },
      "file_extension": ".py",
      "mimetype": "text/x-python",
      "name": "python",
      "nbconvert_exporter": "python",
      "pygments_lexer": "ipython3",
      "version": "3.8.6"
    },
    "colab": {
      "name": "Advanced NLP Assignment 1 (Extra)",
      "provenance": []
    }
  },
  "cells": [
    {
      "cell_type": "code",
      "metadata": {
        "id": "ce44f4fc"
      },
      "source": [
        "from gensim.test.utils import common_texts\n",
        "from gensim.models import Word2Vec\n",
        "from gensim.scripts.glove2word2vec import glove2word2vec\n"
      ],
      "id": "ce44f4fc",
      "execution_count": null,
      "outputs": []
    },
    {
      "cell_type": "code",
      "metadata": {
        "id": "6ccadf6c"
      },
      "source": [
        "from gensim.test.utils import datapath, get_tmpfile"
      ],
      "id": "6ccadf6c",
      "execution_count": null,
      "outputs": []
    },
    {
      "cell_type": "code",
      "metadata": {
        "id": "7220cf53"
      },
      "source": [
        "import gensim.downloader as api"
      ],
      "id": "7220cf53",
      "execution_count": null,
      "outputs": []
    },
    {
      "cell_type": "code",
      "metadata": {
        "colab": {
          "base_uri": "https://localhost:8080/"
        },
        "id": "096eb34f",
        "outputId": "a02262cb-c882-4d32-bd8d-e00febcddd25"
      },
      "source": [
        "corpus = api.load('glove-wiki-gigaword-100')\n"
      ],
      "id": "096eb34f",
      "execution_count": null,
      "outputs": [
        {
          "output_type": "stream",
          "name": "stdout",
          "text": [
            "[==================================================] 100.0% 128.1/128.1MB downloaded\n"
          ]
        }
      ]
    },
    {
      "cell_type": "code",
      "metadata": {
        "colab": {
          "base_uri": "https://localhost:8080/"
        },
        "id": "7ks4kCgFltlj",
        "outputId": "05832682-857b-4322-b2af-ad15b59a62b6"
      },
      "source": [
        "words = corpus.most_similar('camera', topn=10)\n",
        "for i in words:\n",
        "  print(i[0])"
      ],
      "id": "7ks4kCgFltlj",
      "execution_count": null,
      "outputs": [
        {
          "output_type": "stream",
          "name": "stdout",
          "text": [
            "cameras\n",
            "screen\n",
            "video\n",
            "screens\n",
            "microphone\n",
            "digital\n",
            "images\n",
            "device\n",
            "window\n",
            "sensor\n"
          ]
        }
      ]
    }
  ]
}