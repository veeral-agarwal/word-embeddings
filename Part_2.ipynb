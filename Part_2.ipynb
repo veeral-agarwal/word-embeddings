{
 "cells": [
  {
   "cell_type": "markdown",
   "metadata": {
    "id": "ARSYQsLUoxrD"
   },
   "source": [
    "# 1. Preprocessing\n"
   ]
  },
  {
   "cell_type": "code",
   "execution_count": null,
   "metadata": {
    "colab": {
     "base_uri": "https://localhost:8080/"
    },
    "id": "yaU5oekPl6l7",
    "outputId": "eff18cde-ae84-47be-92bc-bdecbbbbd4cf"
   },
   "outputs": [
    {
     "name": "stdout",
     "output_type": "stream",
     "text": [
      "--2021-09-11 06:43:20--  http://snap.stanford.edu/data/amazon/productGraph/categoryFiles/reviews_Electronics_5.json.gz\n",
      "Resolving snap.stanford.edu (snap.stanford.edu)... 171.64.75.80\n",
      "Connecting to snap.stanford.edu (snap.stanford.edu)|171.64.75.80|:80... connected.\n",
      "HTTP request sent, awaiting response... 200 OK\n",
      "Length: 495854086 (473M) [application/x-gzip]\n",
      "Saving to: ‘reviews_Electronics_5.json.gz’\n",
      "\n",
      "reviews_Electronics 100%[===================>] 472.88M  3.91MB/s    in 85s     \n",
      "\n",
      "2021-09-11 06:44:45 (5.58 MB/s) - ‘reviews_Electronics_5.json.gz’ saved [495854086/495854086]\n",
      "\n"
     ]
    }
   ],
   "source": [
    "!wget http://snap.stanford.edu/data/amazon/productGraph/categoryFiles/reviews_Electronics_5.json.gz"
   ]
  },
  {
   "cell_type": "code",
   "execution_count": null,
   "metadata": {
    "id": "KWX_hjOZmQiu"
   },
   "outputs": [],
   "source": [
    "!gzip -d reviews_Electronics_5.json.gz"
   ]
  },
  {
   "cell_type": "code",
   "execution_count": null,
   "metadata": {
    "id": "hEHamtp4mxeI"
   },
   "outputs": [],
   "source": [
    "import json"
   ]
  },
  {
   "cell_type": "code",
   "execution_count": null,
   "metadata": {
    "id": "pxPySXAynX8U"
   },
   "outputs": [],
   "source": [
    "data = []\n",
    "for line in open('reviews_Electronics_5.json', 'r'):\n",
    "    data.append(json.loads(line))"
   ]
  },
  {
   "cell_type": "code",
   "execution_count": null,
   "metadata": {
    "colab": {
     "base_uri": "https://localhost:8080/"
    },
    "id": "qOjhuYsrnfPa",
    "outputId": "a605e63d-a04b-4c22-a04c-70122c7045f2"
   },
   "outputs": [
    {
     "data": {
      "text/plain": [
       "1689188"
      ]
     },
     "execution_count": 110,
     "metadata": {},
     "output_type": "execute_result"
    }
   ],
   "source": [
    "len(data)"
   ]
  },
  {
   "cell_type": "code",
   "execution_count": null,
   "metadata": {
    "colab": {
     "base_uri": "https://localhost:8080/"
    },
    "id": "Rk9w5kyVoh3k",
    "outputId": "f9712d1b-49e8-42cc-d64c-940526b3d3fb"
   },
   "outputs": [
    {
     "data": {
      "text/plain": [
       "{'asin': '0528881469',\n",
       " 'helpful': [0, 0],\n",
       " 'overall': 5.0,\n",
       " 'reviewText': 'We got this GPS for my husband who is an (OTR) over the road trucker.  Very Impressed with the shipping time, it arrived a few days earlier than expected...  within a week of use however it started freezing up... could of just been a glitch in that unit.  Worked great when it worked!  Will work great for the normal person as well but does have the \"trucker\" option. (the big truck routes - tells you when a scale is coming up ect...)  Love the bigger screen, the ease of use, the ease of putting addresses into memory.  Nothing really bad to say about the unit with the exception of it freezing which is probably one in a million and that\\'s just my luck.  I contacted the seller and within minutes of my email I received a email back with instructions for an exchange! VERY impressed all the way around!',\n",
       " 'reviewTime': '06 2, 2013',\n",
       " 'reviewerID': 'AO94DHGC771SJ',\n",
       " 'reviewerName': 'amazdnu',\n",
       " 'summary': 'Gotta have GPS!',\n",
       " 'unixReviewTime': 1370131200}"
      ]
     },
     "execution_count": 111,
     "metadata": {},
     "output_type": "execute_result"
    }
   ],
   "source": [
    "data[0]"
   ]
  },
  {
   "cell_type": "code",
   "execution_count": null,
   "metadata": {
    "id": "ETj85qx7on5f"
   },
   "outputs": [],
   "source": [
    "reviews = [entry[\"reviewText\"] for entry in data]"
   ]
  },
  {
   "cell_type": "code",
   "execution_count": null,
   "metadata": {
    "id": "r8UHdUHVjgy9"
   },
   "outputs": [],
   "source": [
    "reviews = reviews[:50000]"
   ]
  },
  {
   "cell_type": "code",
   "execution_count": null,
   "metadata": {
    "colab": {
     "base_uri": "https://localhost:8080/"
    },
    "id": "n_mqKgbWos_7",
    "outputId": "4a5a5cef-deeb-4508-af80-627b7c5ae077"
   },
   "outputs": [
    {
     "data": {
      "text/plain": [
       "['We got this GPS for my husband who is an (OTR) over the road trucker.  Very Impressed with the shipping time, it arrived a few days earlier than expected...  within a week of use however it started freezing up... could of just been a glitch in that unit.  Worked great when it worked!  Will work great for the normal person as well but does have the \"trucker\" option. (the big truck routes - tells you when a scale is coming up ect...)  Love the bigger screen, the ease of use, the ease of putting addresses into memory.  Nothing really bad to say about the unit with the exception of it freezing which is probably one in a million and that\\'s just my luck.  I contacted the seller and within minutes of my email I received a email back with instructions for an exchange! VERY impressed all the way around!',\n",
       " 'I\\'m a professional OTR truck driver, and I bought a TND 700 at a truck stop hoping to make my life easier.  Rand McNally, are you listening?First thing I did after charging it was connect it to my laptop and install the software and then attempt to update it.  The software detected a problem with my update and wanted my home address so I could be sent a patch on an SD card.  Hello?  I don\\'t think I\\'m all that unusual; my home address is a PO box that a friend checks weekly and that I might get to check every six months or so.  I live in my truck and at truck stops.  If you need to make a patch available on an SD card then you should send the SD cards to the truck stops where the devices are sold.  I ran the update program multiple times until the program said that the TND 700 was completely updated.I programmed in the height (13\\'6\"), the length (53\\') and the weight (80,000#) of my rig and told it that I preferred highways.  I was parked at a truck stop in the Cincinnati OH area.  My next pickup was about 15 miles down the same freeway but on the other side of it a couple of blocks.  My cell phone GPS (Sprint) said to get on the freeway to get to my pickup.  The TND 700 routed me thru 23 miles of residential streets before finally getting me to my pickup.  Very exciting, especially since every time I refused to turn down a street posted \"No Trucks\" the TND 700 took almost 5 minutes to figure a re-route, and it happened multiple times on that short trip.I decided to give it another chance.  After my pickup on the north side of Cincinnati just off of I-75 I needed to head to Phoenix AZ via I-71.  Easy route is to just hop on I-75 and drive west and south to the intersection of I-71.  Indeed, that is what my cell phone advised.  The TND 700, however, wanted to route me over surface streets across the city and pick up I-75 on the other side of the city.  I turned it off and the next time I passed a truck stop of the same chain I purchased it at I returned it and got my money back.I then spent $30 on a cheap printer.  Now I take a minute to set up my route on Google and print it out.  Hasn\\'t gotten me lost yet over several cross country trips.',\n",
       " \"Well, what can I say.  I've had this unit in my truck for about four days now.  Prior to that I had a Garmin 755T non-truck GPS.  One of my favorite features in that unit was the ability to plan a route by determining mileage using the stop or via feature.  What I would do is using a map I would route myself several different ways forcing the unit by putting in stops or vias at different locations along the route, otherwise, like most GPS 's, it determines what it thinks is the best route.  I could add up to 10 Via's or stop points for each route and then based on mileage and other factors determine which is the best route to take.  Multiple stops and the ability to route was the most important reason for having the Garmin.  However it was not truck specific.  And considering I am now hauling strictly hazmat I wanted something that would take that into consideration.  After perusing various forums, review sites, and word-of-mouth my choices boiled down to the Garmin 465T or the RAND McNally Intelliroute TND 700.  Even though it was quite a bit more than the Garmin I chose the TND 700 for several reasons.  The main one being the extra screen size, and its ability to coordinate with the RAND McNally truck atlas and also its ease of updating.Now on to my first impression of the TND 700.  It seems to be an aesthetically pleasing and durably built unit.  The first thing I noticed was it's very slow to boot compared to my old Garmin.  Whether this is unique to the TND 700 or is common amongst all truck specific gps units I cannot tell, but it's really not that big of a deal.  The second thing I noticed was the overwhelming wealth of information put forth.  That might explain why the manual (available via the TND dock) is well over 100 pages long.....  There is somewhat of a learning curve with this unit.  The next thing I noticed was the complexity of entering routes.  As previously mentioned I like to force it into my preferred routing by the use of stops or vias.  That was a big no go with this unit.  While you can enter multiple stops or vias it is nowhere near as user-friendly as my old Garmin.  Furthermore there is no way you can determine total mileage on the route that you have chosen, as I could with the Garmin.  Totally flummoxed by what appeared to be an omission of one of the best routing tools a trucker could have I went online and verified through an expert source connected with RAND McNally that no, that feature was a couple updates down the line and was not available at this point.  Unbelievable.  Also forcing the unit to follow a specific route can be very challenging.  For a unit of this price, and feature laden, I find this totally unacceptable.  I am still mulling over selling this unit  and buying the Garmin 465T.  I really do like this GPS, the screen is magnificent, and the volume is awesome.Another thing I've noticed, which I do not think is unique to this unit, is some of the weird routing that it does.  I've never owned a truck specific GPS before but after playing with this one for a couple of days I get the impression that what RAND MacNally (and the others that use Navteq) has done is take a plain old car specific Navteq map and a road atlas with truck restrictions and made notifications on the map.  In most databases there is not a 100% thorough listing of every road in the country.  What I mean is that this unit will route you down roads you don't belong on.  Today while coming home it tried routing me on several  9 ton County roads.  What that means is that a truck is limited to 73280 unless the road is posted at 10 tons.  County roads do not have that restriction listed in the RAND McNally road atlas, so I believe that is why it is not listed.....  Also unacceptable in a unit of this price and sold as truck specific.  However I'd be willing to bet the other truck specific units are the same way as no one has ever done a truck specific version of NavTeq.Another bone I have to pick is the POI's. Not only the truck specific ones but the others all seem to be somewhat outdated.  I think the Garmin, at least the ones that I have used, are more current.  It would also be nice if I could add my own POI'sTo sum it up I will keep this unit a little longer to see if I can make it workable.  If not I will go back to Garmin.  I like the concept and I like the unit but at this point I'll have to say I am somewhat unimpressed.pros:Large screenterrific imagesoutstanding volumecons:inability to determine route mileage by multiple stops and viasa somewhat outdated POI information.Non-truck specific routings.Cost.\"]"
      ]
     },
     "execution_count": 114,
     "metadata": {},
     "output_type": "execute_result"
    }
   ],
   "source": [
    "reviews[:3]"
   ]
  },
  {
   "cell_type": "code",
   "execution_count": null,
   "metadata": {
    "id": "xkFA94VAxCK-"
   },
   "outputs": [],
   "source": [
    "from collections import Counter"
   ]
  },
  {
   "cell_type": "code",
   "execution_count": null,
   "metadata": {
    "id": "OXWuIlaFxKzA"
   },
   "outputs": [],
   "source": [
    "c = Counter()"
   ]
  },
  {
   "cell_type": "code",
   "execution_count": null,
   "metadata": {
    "colab": {
     "base_uri": "https://localhost:8080/"
    },
    "id": "Cac6wlGrxd_e",
    "outputId": "740cf6b7-e212-42e1-95bb-c38c2ccbbc2d"
   },
   "outputs": [
    {
     "name": "stdout",
     "output_type": "stream",
     "text": [
      "0\n",
      "10000\n",
      "20000\n",
      "30000\n",
      "40000\n"
     ]
    }
   ],
   "source": [
    "i = 0\n",
    "for review in reviews:\n",
    "  if i%(len(reviews)//5) == 0:\n",
    "    print(i)\n",
    "  i+=1\n",
    "  words = review.split()\n",
    "  for word in words:\n",
    "    c[word.lower()]+=1"
   ]
  },
  {
   "cell_type": "code",
   "execution_count": null,
   "metadata": {
    "colab": {
     "base_uri": "https://localhost:8080/"
    },
    "id": "l63RQfTcy-6S",
    "outputId": "069a1532-412d-4db9-8ee2-961b7d407296"
   },
   "outputs": [
    {
     "data": {
      "text/plain": [
       "193596"
      ]
     },
     "execution_count": 118,
     "metadata": {},
     "output_type": "execute_result"
    }
   ],
   "source": [
    "len(c)"
   ]
  },
  {
   "cell_type": "code",
   "execution_count": null,
   "metadata": {
    "id": "JznAiAhrzYOU"
   },
   "outputs": [],
   "source": [
    "too_infrequent = 0"
   ]
  },
  {
   "cell_type": "code",
   "execution_count": null,
   "metadata": {
    "id": "4CRZcDV0zAaR"
   },
   "outputs": [],
   "source": [
    "for word in c:\n",
    "  if c[word]<5:\n",
    "    too_infrequent+=1"
   ]
  },
  {
   "cell_type": "code",
   "execution_count": null,
   "metadata": {
    "colab": {
     "base_uri": "https://localhost:8080/"
    },
    "id": "E9AfkI0uza4I",
    "outputId": "cd580d4d-ce6e-4df4-a46d-34402c83e9a5"
   },
   "outputs": [
    {
     "data": {
      "text/plain": [
       "28014"
      ]
     },
     "execution_count": 121,
     "metadata": {},
     "output_type": "execute_result"
    }
   ],
   "source": [
    "len(c) - too_infrequent"
   ]
  },
  {
   "cell_type": "code",
   "execution_count": null,
   "metadata": {
    "id": "AZDv-DuDzhUP"
   },
   "outputs": [],
   "source": [
    "cleaned_reviews = []"
   ]
  },
  {
   "cell_type": "code",
   "execution_count": null,
   "metadata": {
    "colab": {
     "base_uri": "https://localhost:8080/"
    },
    "id": "0Xu4BTJofC0D",
    "outputId": "0d82f02a-db19-43ee-8f69-4d3dc9962a4d"
   },
   "outputs": [
    {
     "name": "stdout",
     "output_type": "stream",
     "text": [
      "[nltk_data] Downloading package stopwords to /root/nltk_data...\n",
      "[nltk_data]   Package stopwords is already up-to-date!\n"
     ]
    },
    {
     "data": {
      "text/plain": [
       "True"
      ]
     },
     "execution_count": 123,
     "metadata": {},
     "output_type": "execute_result"
    }
   ],
   "source": [
    "import nltk\n",
    "nltk.download('stopwords')"
   ]
  },
  {
   "cell_type": "code",
   "execution_count": null,
   "metadata": {
    "id": "umus6_TOeysS"
   },
   "outputs": [],
   "source": [
    "from nltk.corpus import stopwords\n",
    "stop_words = set(stopwords.words('english'))\n",
    "from nltk.tokenize import RegexpTokenizer\n",
    "\n",
    "tokenizer = RegexpTokenizer(r'\\w+')\n",
    "x = tokenizer.tokenize('Eighty-seven miles to go, yet.  Onward!')"
   ]
  },
  {
   "cell_type": "code",
   "execution_count": null,
   "metadata": {
    "colab": {
     "base_uri": "https://localhost:8080/"
    },
    "id": "tAj4yKpDgevw",
    "outputId": "eaff6434-e794-44ee-e32a-14f6ed1c0c09"
   },
   "outputs": [
    {
     "data": {
      "text/plain": [
       "50000"
      ]
     },
     "execution_count": 125,
     "metadata": {},
     "output_type": "execute_result"
    }
   ],
   "source": [
    "len(reviews)"
   ]
  },
  {
   "cell_type": "code",
   "execution_count": null,
   "metadata": {
    "colab": {
     "base_uri": "https://localhost:8080/"
    },
    "id": "Z-sB0oyOiy-e",
    "outputId": "0502634d-451b-46c5-ec82-78b57790ead8"
   },
   "outputs": [
    {
     "data": {
      "text/plain": [
       "['We got this GPS for my husband who is an (OTR) over the road trucker.  Very Impressed with the shipping time, it arrived a few days earlier than expected...  within a week of use however it started freezing up... could of just been a glitch in that unit.  Worked great when it worked!  Will work great for the normal person as well but does have the \"trucker\" option. (the big truck routes - tells you when a scale is coming up ect...)  Love the bigger screen, the ease of use, the ease of putting addresses into memory.  Nothing really bad to say about the unit with the exception of it freezing which is probably one in a million and that\\'s just my luck.  I contacted the seller and within minutes of my email I received a email back with instructions for an exchange! VERY impressed all the way around!',\n",
       " 'I\\'m a professional OTR truck driver, and I bought a TND 700 at a truck stop hoping to make my life easier.  Rand McNally, are you listening?First thing I did after charging it was connect it to my laptop and install the software and then attempt to update it.  The software detected a problem with my update and wanted my home address so I could be sent a patch on an SD card.  Hello?  I don\\'t think I\\'m all that unusual; my home address is a PO box that a friend checks weekly and that I might get to check every six months or so.  I live in my truck and at truck stops.  If you need to make a patch available on an SD card then you should send the SD cards to the truck stops where the devices are sold.  I ran the update program multiple times until the program said that the TND 700 was completely updated.I programmed in the height (13\\'6\"), the length (53\\') and the weight (80,000#) of my rig and told it that I preferred highways.  I was parked at a truck stop in the Cincinnati OH area.  My next pickup was about 15 miles down the same freeway but on the other side of it a couple of blocks.  My cell phone GPS (Sprint) said to get on the freeway to get to my pickup.  The TND 700 routed me thru 23 miles of residential streets before finally getting me to my pickup.  Very exciting, especially since every time I refused to turn down a street posted \"No Trucks\" the TND 700 took almost 5 minutes to figure a re-route, and it happened multiple times on that short trip.I decided to give it another chance.  After my pickup on the north side of Cincinnati just off of I-75 I needed to head to Phoenix AZ via I-71.  Easy route is to just hop on I-75 and drive west and south to the intersection of I-71.  Indeed, that is what my cell phone advised.  The TND 700, however, wanted to route me over surface streets across the city and pick up I-75 on the other side of the city.  I turned it off and the next time I passed a truck stop of the same chain I purchased it at I returned it and got my money back.I then spent $30 on a cheap printer.  Now I take a minute to set up my route on Google and print it out.  Hasn\\'t gotten me lost yet over several cross country trips.',\n",
       " \"Well, what can I say.  I've had this unit in my truck for about four days now.  Prior to that I had a Garmin 755T non-truck GPS.  One of my favorite features in that unit was the ability to plan a route by determining mileage using the stop or via feature.  What I would do is using a map I would route myself several different ways forcing the unit by putting in stops or vias at different locations along the route, otherwise, like most GPS 's, it determines what it thinks is the best route.  I could add up to 10 Via's or stop points for each route and then based on mileage and other factors determine which is the best route to take.  Multiple stops and the ability to route was the most important reason for having the Garmin.  However it was not truck specific.  And considering I am now hauling strictly hazmat I wanted something that would take that into consideration.  After perusing various forums, review sites, and word-of-mouth my choices boiled down to the Garmin 465T or the RAND McNally Intelliroute TND 700.  Even though it was quite a bit more than the Garmin I chose the TND 700 for several reasons.  The main one being the extra screen size, and its ability to coordinate with the RAND McNally truck atlas and also its ease of updating.Now on to my first impression of the TND 700.  It seems to be an aesthetically pleasing and durably built unit.  The first thing I noticed was it's very slow to boot compared to my old Garmin.  Whether this is unique to the TND 700 or is common amongst all truck specific gps units I cannot tell, but it's really not that big of a deal.  The second thing I noticed was the overwhelming wealth of information put forth.  That might explain why the manual (available via the TND dock) is well over 100 pages long.....  There is somewhat of a learning curve with this unit.  The next thing I noticed was the complexity of entering routes.  As previously mentioned I like to force it into my preferred routing by the use of stops or vias.  That was a big no go with this unit.  While you can enter multiple stops or vias it is nowhere near as user-friendly as my old Garmin.  Furthermore there is no way you can determine total mileage on the route that you have chosen, as I could with the Garmin.  Totally flummoxed by what appeared to be an omission of one of the best routing tools a trucker could have I went online and verified through an expert source connected with RAND McNally that no, that feature was a couple updates down the line and was not available at this point.  Unbelievable.  Also forcing the unit to follow a specific route can be very challenging.  For a unit of this price, and feature laden, I find this totally unacceptable.  I am still mulling over selling this unit  and buying the Garmin 465T.  I really do like this GPS, the screen is magnificent, and the volume is awesome.Another thing I've noticed, which I do not think is unique to this unit, is some of the weird routing that it does.  I've never owned a truck specific GPS before but after playing with this one for a couple of days I get the impression that what RAND MacNally (and the others that use Navteq) has done is take a plain old car specific Navteq map and a road atlas with truck restrictions and made notifications on the map.  In most databases there is not a 100% thorough listing of every road in the country.  What I mean is that this unit will route you down roads you don't belong on.  Today while coming home it tried routing me on several  9 ton County roads.  What that means is that a truck is limited to 73280 unless the road is posted at 10 tons.  County roads do not have that restriction listed in the RAND McNally road atlas, so I believe that is why it is not listed.....  Also unacceptable in a unit of this price and sold as truck specific.  However I'd be willing to bet the other truck specific units are the same way as no one has ever done a truck specific version of NavTeq.Another bone I have to pick is the POI's. Not only the truck specific ones but the others all seem to be somewhat outdated.  I think the Garmin, at least the ones that I have used, are more current.  It would also be nice if I could add my own POI'sTo sum it up I will keep this unit a little longer to see if I can make it workable.  If not I will go back to Garmin.  I like the concept and I like the unit but at this point I'll have to say I am somewhat unimpressed.pros:Large screenterrific imagesoutstanding volumecons:inability to determine route mileage by multiple stops and viasa somewhat outdated POI information.Non-truck specific routings.Cost.\"]"
      ]
     },
     "execution_count": 126,
     "metadata": {},
     "output_type": "execute_result"
    }
   ],
   "source": [
    "reviews[:3]"
   ]
  },
  {
   "cell_type": "code",
   "execution_count": null,
   "metadata": {
    "id": "Hh43UVCvj4kI"
   },
   "outputs": [],
   "source": [
    "cleaned_reviews = []"
   ]
  },
  {
   "cell_type": "code",
   "execution_count": null,
   "metadata": {
    "colab": {
     "base_uri": "https://localhost:8080/"
    },
    "id": "-lGbPxSRzk2N",
    "outputId": "b88ed308-7c95-4954-ccd4-adda08a4e13b"
   },
   "outputs": [
    {
     "name": "stdout",
     "output_type": "stream",
     "text": [
      "0\n",
      "10000\n",
      "20000\n",
      "30000\n",
      "40000\n"
     ]
    }
   ],
   "source": [
    "i = 0\n",
    "for review in reviews:\n",
    "  if i%(len(reviews)//5) == 0:\n",
    "    print(i)\n",
    "  i+=1\n",
    "  words = tokenizer.tokenize(review)\n",
    "  new_words = []\n",
    "  for word in words:\n",
    "    word = word.lower()\n",
    "    if c[word]>=5 and word not in stop_words:\n",
    "      new_words.append(word)\n",
    "  new_review = \" \".join(new_words)\n",
    "  cleaned_reviews.append(new_review)"
   ]
  },
  {
   "cell_type": "code",
   "execution_count": null,
   "metadata": {
    "colab": {
     "base_uri": "https://localhost:8080/"
    },
    "id": "6_v_iFIcjcYZ",
    "outputId": "3b1bc7f2-a075-440d-a049-4f47ea3c0925"
   },
   "outputs": [
    {
     "data": {
      "text/plain": [
       "['got gps husband road trucker impressed shipping time arrived days earlier expected within week use however started freezing could glitch unit worked great worked work great normal person well trucker option big truck routes tells scale coming love bigger screen ease use ease putting addresses memory nothing really bad say unit exception freezing probably one million luck contacted seller within minutes email received email back instructions exchange impressed way around',\n",
       " 'professional truck driver bought tnd 700 truck stop hoping make life easier rand mcnally listening first thing charging connect laptop install software attempt update software detected problem update wanted home address could sent patch sd card hello think unusual home address box friend checks weekly might get check every six months live truck truck stops need make patch available sd card send sd cards truck stops devices sold ran update program multiple times program said tnd 700 completely updated programmed height 13 6 length 53 weight 80 rig told preferred highways parked truck stop oh area next pickup 15 miles freeway side couple blocks cell phone gps said get freeway get pickup tnd 700 routed thru 23 miles residential streets finally getting pickup exciting especially since every time refused turn street posted trucks tnd 700 took almost 5 minutes figure route happened multiple times short trip decided give another chance pickup north side 75 needed head phoenix az via 71 easy route hop 75 drive west south 71 indeed cell phone advised tnd 700 however wanted route surface streets across city pick 75 side city turned next time passed truck stop chain purchased returned got money back spent 30 cheap printer take minute set route google print gotten lost yet several cross country trips',\n",
       " 'well say unit truck four days prior garmin non truck gps one favorite features unit ability plan route determining mileage using stop via feature would using map would route several different ways forcing unit putting stops different locations along route otherwise like gps determines thinks best route could add 10 via stop points route based mileage factors determine best route take multiple stops ability route important reason garmin however truck specific considering hauling strictly wanted something would take consideration perusing various forums review sites word mouth choices garmin rand mcnally tnd 700 even though quite bit garmin chose tnd 700 several reasons main one extra screen size ability coordinate rand mcnally truck atlas also ease updating first impression tnd 700 seems aesthetically pleasing durably built unit first thing noticed slow boot compared old garmin whether unique tnd 700 common amongst truck specific gps units cannot tell really big deal second thing noticed overwhelming wealth information put forth might explain manual available via tnd dock well 100 pages long somewhat learning curve unit next thing noticed complexity entering routes previously mentioned like force preferred routing use stops big go unit enter multiple stops nowhere near user friendly old garmin furthermore way determine total mileage route chosen could garmin totally appeared omission one best routing tools trucker could went online verified expert source connected rand mcnally feature couple updates line available point unbelievable also forcing unit follow specific route challenging unit price feature find totally unacceptable still selling unit buying garmin really like gps screen magnificent volume awesome another thing noticed think unique unit weird routing never owned truck specific gps playing one couple days get impression rand others use done take plain old car specific map road atlas truck restrictions made map databases 100 thorough listing every road country mean unit route roads belong today coming home tried routing several 9 ton county roads means truck limited unless road posted 10 tons county roads restriction listed rand mcnally road atlas believe listed also unacceptable unit price sold truck specific however willing bet truck specific units way one ever done truck specific version another bone pick poi truck specific ones others seem somewhat outdated think garmin least ones used current would also nice could add poi sum keep unit little longer see make workable go back garmin like concept like unit point say somewhat unimpressed pros large inability determine route mileage multiple stops somewhat outdated poi information non truck specific cost']"
      ]
     },
     "execution_count": 129,
     "metadata": {},
     "output_type": "execute_result"
    }
   ],
   "source": [
    "cleaned_reviews[:3]"
   ]
  },
  {
   "cell_type": "code",
   "execution_count": null,
   "metadata": {
    "id": "pmbBNJZgbqDL"
   },
   "outputs": [],
   "source": [
    "with open('reviews.txt', 'w') as f:\n",
    "    for item in cleaned_reviews:\n",
    "        f.write(\"%s\\n\" % item)"
   ]
  },
  {
   "cell_type": "markdown",
   "metadata": {
    "id": "scwpKUUNMEv2"
   },
   "source": [
    "# 2. CBOW Model"
   ]
  },
  {
   "cell_type": "code",
   "execution_count": null,
   "metadata": {
    "id": "JLS40wVZbzpT"
   },
   "outputs": [],
   "source": [
    "with open('reviews.txt') as file:\n",
    "    cleaned_reviews = file.readlines()\n",
    "    cleaned_reviews = [line.rstrip() for line in cleaned_reviews]"
   ]
  },
  {
   "cell_type": "code",
   "execution_count": null,
   "metadata": {
    "colab": {
     "base_uri": "https://localhost:8080/"
    },
    "id": "yaY8Lgsp1htM",
    "outputId": "f8279f8d-0a6d-4d4b-a08f-29f8b8f08ba0"
   },
   "outputs": [
    {
     "data": {
      "text/plain": [
       "50000"
      ]
     },
     "execution_count": 132,
     "metadata": {},
     "output_type": "execute_result"
    }
   ],
   "source": [
    "len(cleaned_reviews)"
   ]
  },
  {
   "cell_type": "code",
   "execution_count": null,
   "metadata": {
    "id": "97RAHk8NOzv5"
   },
   "outputs": [],
   "source": [
    "import torch\n",
    "import torch.nn as nn\n",
    "import torch.nn.functional as F\n",
    "import torch.optim as optim\n",
    "from torch.utils.data import Dataset, DataLoader\n",
    "from collections import Counter\n",
    "from nltk.tokenize import word_tokenize\n",
    "from tqdm import tqdm"
   ]
  },
  {
   "cell_type": "code",
   "execution_count": null,
   "metadata": {
    "id": "JNpC7vjrU7up"
   },
   "outputs": [],
   "source": [
    "WINDOWS_SIZE = 2\n",
    "EMBEDDING_DIM = 10\n",
    "BATCH_SIZE = 1000\n",
    "NUM_EPOCH = 5"
   ]
  },
  {
   "cell_type": "code",
   "execution_count": null,
   "metadata": {
    "id": "9-8GK64KSxyK"
   },
   "outputs": [],
   "source": [
    "class Text2DataSet(Dataset):\n",
    "    \"\"\"\n",
    "    We are just training word embeddings, what we need is just text,\n",
    "    And thus we do not perform train, val, test splitting and sort of\n",
    "    things. You can change the data file to whatever you want as long\n",
    "    as it's plain text, and it's not that big.\n",
    "    It's toy implementation, train on rather small dataset,\n",
    "    so we don't restrict vocabulary size.\n",
    "    \"\"\"\n",
    "    def __init__(self, window_size=2):\n",
    "        \"\"\"\n",
    "        :param data_file_path: path for the plain text file\n",
    "        :param ngram:  language model n-grams\n",
    "        \"\"\"\n",
    "        self.context_target = []\n",
    "        self.vocab = set()\n",
    "        for review in cleaned_reviews:\n",
    "          words_tokenized = review.split()\n",
    "          for word in words_tokenized:\n",
    "            self.vocab.add(word)\n",
    "          for i in range(window_size, len(words_tokenized)-window_size):\n",
    "            self.context_target.append(([words_tokenized[i-(j+1)] for j in range(window_size)] +\\\n",
    "                                 [words_tokenized[i+(j+1)] for j in range(window_size)],\n",
    "                                words_tokenized[i]))\n",
    "\n",
    "        self.word_to_idx = {word_tuple: idx for idx, word_tuple in enumerate(self.vocab)}\n",
    "        self.idx_to_word = list(self.word_to_idx.keys())\n",
    "        self.vocab_size = len(self.vocab)\n",
    "        self.window_size = window_size\n",
    "\n",
    "    def __getitem__(self, idx):\n",
    "        context = torch.tensor([self.word_to_idx[w] for w in self.context_target[idx][0]])\n",
    "        target = torch.tensor([self.word_to_idx[self.context_target[idx][1]]])\n",
    "        return context, target\n",
    "\n",
    "    def __len__(self):\n",
    "        return len(self.context_target)"
   ]
  },
  {
   "cell_type": "code",
   "execution_count": null,
   "metadata": {
    "id": "4bRZ5a1hUu35"
   },
   "outputs": [],
   "source": [
    "data = Text2DataSet()"
   ]
  },
  {
   "cell_type": "code",
   "execution_count": null,
   "metadata": {
    "id": "_O1c4a23P6aa"
   },
   "outputs": [],
   "source": [
    "class CBOW(nn.Module):\n",
    "\n",
    "    def __init__(self, vocab_size, embedding_dim, window_size):\n",
    "        super(CBOW, self).__init__()\n",
    "        self.embeddings = nn.Embedding(vocab_size, embedding_dim)\n",
    "        self.linear = nn.Linear(embedding_dim, vocab_size)\n",
    "        self.window_size = window_size\n",
    "\n",
    "    def forward(self, inputs):\n",
    "\n",
    "        embeds = torch.sum(self.embeddings(inputs), dim=1)\n",
    "        out = self.linear(embeds) # nonlinear + projection\n",
    "        log_probs = F.log_softmax(out, dim=1) # softmax compute log probability\n",
    "\n",
    "        return log_probs"
   ]
  },
  {
   "cell_type": "code",
   "execution_count": null,
   "metadata": {
    "id": "egcmerlNUtpK"
   },
   "outputs": [],
   "source": [
    "model = CBOW(len(data.vocab), EMBEDDING_DIM, WINDOWS_SIZE)"
   ]
  },
  {
   "cell_type": "code",
   "execution_count": null,
   "metadata": {
    "id": "iFhX2OWrV7Ig"
   },
   "outputs": [],
   "source": [
    "optimizer = optim.Adam(model.parameters(), lr=0.01)\n",
    "loss_function = nn.NLLLoss()\n",
    "data_loader = DataLoader(data, batch_size=BATCH_SIZE)"
   ]
  },
  {
   "cell_type": "code",
   "execution_count": null,
   "metadata": {
    "id": "sN1R6VH0Wqlm"
   },
   "outputs": [],
   "source": [
    "cuda_available = torch.cuda.is_available()"
   ]
  },
  {
   "cell_type": "code",
   "execution_count": null,
   "metadata": {
    "colab": {
     "base_uri": "https://localhost:8080/"
    },
    "id": "zahkQ4MsV-2I",
    "outputId": "38e7a64b-f55e-4f2c-8b80-da16e419611b"
   },
   "outputs": [
    {
     "name": "stderr",
     "output_type": "stream",
     "text": [
      "100%|██████████| 2458/2458 [01:02<00:00, 39.54it/s]\n",
      "100%|██████████| 2458/2458 [01:03<00:00, 38.62it/s]\n",
      "100%|██████████| 2458/2458 [01:04<00:00, 38.07it/s]\n",
      "100%|██████████| 2458/2458 [01:04<00:00, 38.16it/s]\n",
      "100%|██████████| 2458/2458 [01:04<00:00, 37.95it/s]\n"
     ]
    }
   ],
   "source": [
    "for epoch in range(NUM_EPOCH):\n",
    "    total_loss = 0\n",
    "    for context, target in tqdm(data_loader):\n",
    "        # context: torch.Size([10, 4])\n",
    "        # target:  torch.Size([10, 1])\n",
    "        if context.size()[0] != BATCH_SIZE:\n",
    "            continue\n",
    "        # deal with last several batches\n",
    "\n",
    "        if cuda_available:\n",
    "            context = context.cuda()\n",
    "            target = target.squeeze(1).cuda()\n",
    "            model = model.cuda()\n",
    "\n",
    "        model.zero_grad()\n",
    "        log_probs = model(context)\n",
    "        loss = loss_function(log_probs, target)\n",
    "        loss.backward()\n",
    "        optimizer.step()\n",
    "        total_loss += loss.item()\n"
   ]
  },
  {
   "cell_type": "code",
   "execution_count": null,
   "metadata": {
    "id": "dWi15cD3aehF"
   },
   "outputs": [],
   "source": [
    "my_words = ['camera','clean','depressed','run','wallet']"
   ]
  },
  {
   "cell_type": "code",
   "execution_count": null,
   "metadata": {
    "id": "GpGQbuaEaOVB"
   },
   "outputs": [],
   "source": [
    "from numpy.linalg import norm\n",
    "all_vec = [[] for i in my_words]"
   ]
  },
  {
   "cell_type": "code",
   "execution_count": null,
   "metadata": {
    "id": "CRq19wctZidx"
   },
   "outputs": [],
   "source": [
    "\n",
    "for k,my_word in enumerate(my_words):\n",
    "  for j,other_word in enumerate(data.vocab):\n",
    "    vec1 = model.embeddings.weight[data.word_to_idx[my_word]]\n",
    "    vec2 = model.embeddings.weight[data.word_to_idx[other_word]]\n",
    "    dist = norm(vec1.cpu().detach().numpy()-vec2.cpu().detach().numpy())\n",
    "    all_vec[k].append({other_word:dist})"
   ]
  },
  {
   "cell_type": "code",
   "execution_count": null,
   "metadata": {
    "id": "fJA0dwYUaoYh"
   },
   "outputs": [],
   "source": [
    "for i,item in enumerate(all_vec):\n",
    "  all_vec[i] = sorted(all_vec[i], key=lambda x: list(x.values())[0])"
   ]
  },
  {
   "cell_type": "code",
   "execution_count": null,
   "metadata": {
    "id": "x8Th19owbipk"
   },
   "outputs": [],
   "source": [
    "final_words = []"
   ]
  },
  {
   "cell_type": "code",
   "execution_count": null,
   "metadata": {
    "colab": {
     "base_uri": "https://localhost:8080/"
    },
    "id": "mrvsYADtW_nV",
    "outputId": "39816b02-a4a4-4a49-cf47-9b4ed2a5de36"
   },
   "outputs": [
    {
     "name": "stdout",
     "output_type": "stream",
     "text": [
      "For camera:\n",
      "tripod\n",
      "bag\n",
      "macro\n",
      "predict\n",
      "accessory\n",
      "body\n",
      "dslr\n",
      "merge\n",
      "step\n",
      "plan\n",
      "\n",
      "For clean:\n",
      "nice\n",
      "scheme\n",
      "illusion\n",
      "matters\n",
      "brilliant\n",
      "art\n",
      "missing\n",
      "wonderful\n",
      "leaves\n",
      "detailed\n",
      "\n",
      "For depressed:\n",
      "forgets\n",
      "adjust\n",
      "push\n",
      "presses\n",
      "compress\n",
      "vigorous\n",
      "studying\n",
      "mucking\n",
      "scrolls\n",
      "grasp\n",
      "\n",
      "For run:\n",
      "runs\n",
      "single\n",
      "play\n",
      "manage\n",
      "computer\n",
      "separate\n",
      "travels\n",
      "dedicate\n",
      "bring\n",
      "staring\n",
      "\n",
      "For wallet:\n",
      "roomy\n",
      "holder\n",
      "carrying\n",
      "storage\n",
      "esoteric\n",
      "storing\n",
      "case\n",
      "anchor\n",
      "bulky\n",
      "stacked\n",
      "\n"
     ]
    }
   ],
   "source": [
    "for i,item in enumerate(all_vec):\n",
    "  print(f\"For {my_words[i]}:\")\n",
    "  for j in all_vec[i][1:11]:\n",
    "    word_key = list(j.keys())[0]\n",
    "    print(word_key)\n",
    "    final_words.append(word_key)\n",
    "  print()"
   ]
  },
  {
   "cell_type": "markdown",
   "metadata": {
    "id": "xXF_S-O6MNHk"
   },
   "source": [
    "# 3. Plotting"
   ]
  },
  {
   "cell_type": "code",
   "execution_count": null,
   "metadata": {
    "id": "06DFWIxyrLWL"
   },
   "outputs": [],
   "source": [
    "from sklearn.manifold import TSNE\n",
    "import matplotlib.pyplot as plt"
   ]
  },
  {
   "cell_type": "code",
   "execution_count": null,
   "metadata": {
    "id": "JxPcb8hmrPK5"
   },
   "outputs": [],
   "source": [
    "def tsne_plot():\n",
    "    \"Creates and TSNE model and plots it\"\n",
    "    labels = []\n",
    "    tokens = []\n",
    "\n",
    "    for word in final_words:\n",
    "        tokens.append(model.embeddings.weight[data.word_to_idx[word]].cpu().detach().numpy())\n",
    "        labels.append(word)\n",
    "    \n",
    "    tsne_model = TSNE(perplexity=15, n_components=2, init='pca', n_iter=2500, random_state=23)\n",
    "    new_values = tsne_model.fit_transform(tokens)\n",
    "\n",
    "    x = []\n",
    "    y = []\n",
    "    for value in new_values:\n",
    "        x.append(value[0])\n",
    "        y.append(value[1])\n",
    "        \n",
    "    plt.figure(figsize=(16, 16)) \n",
    "    for i in range(len(x)):\n",
    "        plt.scatter(x[i],y[i])\n",
    "        plt.annotate(labels[i],\n",
    "                     xy=(x[i], y[i]),\n",
    "                     xytext=(5, 2),\n",
    "                     textcoords='offset points',\n",
    "                     ha='right',\n",
    "                     va='bottom')\n",
    "    plt.show()"
   ]
  },
  {
   "cell_type": "code",
   "execution_count": null,
   "metadata": {
    "colab": {
     "base_uri": "https://localhost:8080/"
    },
    "id": "xPkgHxrPcfLx",
    "outputId": "dcc39be7-ab6d-4b43-c56f-6bfe33e84162"
   },
   "outputs": [
    {
     "data": {
      "text/plain": [
       "50"
      ]
     },
     "execution_count": 338,
     "metadata": {},
     "output_type": "execute_result"
    }
   ],
   "source": [
    "len(final_words)"
   ]
  },
  {
   "cell_type": "code",
   "execution_count": null,
   "metadata": {
    "colab": {
     "base_uri": "https://localhost:8080/",
     "height": 918
    },
    "id": "KQwnvU3arrJT",
    "outputId": "4e124c71-2462-4eeb-ceed-e5fd90434312"
   },
   "outputs": [
    {
     "data": {
      "image/png": "[encoded data removed]",
      "text/plain": [
       "<Figure size 1152x1152 with 1 Axes>"
      ]
     },
     "metadata": {
      "needs_background": "light"
     },
     "output_type": "display_data"
    }
   ],
   "source": [
    "tsne_plot()"
   ]
  }
 ],
 "metadata": {
  "accelerator": "GPU",
  "colab": {
   "collapsed_sections": [],
   "name": "Advanced NLP Assignment 1 Part 2",
   "provenance": []
  },
  "kernelspec": {
   "display_name": "Python 3",
   "language": "python",
   "name": "python3"
  },
  "language_info": {
   "codemirror_mode": {
    "name": "ipython",
    "version": 3
   },
   "file_extension": ".py",
   "mimetype": "text/x-python",
   "name": "python",
   "nbconvert_exporter": "python",
   "pygments_lexer": "ipython3",
   "version": "3.8.8"
  }
 },
 "nbformat": 4,
 "nbformat_minor": 1
}
